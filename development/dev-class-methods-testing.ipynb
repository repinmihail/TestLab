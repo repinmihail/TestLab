{
 "cells": [
  {
   "cell_type": "markdown",
   "metadata": {},
   "source": [
    "### head"
   ]
  },
  {
   "cell_type": "code",
   "execution_count": 1,
   "metadata": {},
   "outputs": [],
   "source": [
    "from test_flow import ABCore as tf\n",
    "import visualization as viz\n",
    "import pandas as pd\n",
    "import numpy as np\n",
    "import warnings\n",
    "\n",
    "warnings.filterwarnings(\"ignore\")"
   ]
  },
  {
   "cell_type": "code",
   "execution_count": 2,
   "metadata": {},
   "outputs": [],
   "source": [
    "path = r\"C:\\Users\\repin\\Desktop\\GitHub\\TestLab\\development\\test-data.csv\"\n",
    "df = pd.read_csv(path)"
   ]
  },
  {
   "cell_type": "code",
   "execution_count": 3,
   "metadata": {},
   "outputs": [],
   "source": [
    "# добавим данные по месяцу и дате в удобном формате\n",
    "df['month'] = df['Date'].apply(lambda x: x[:7])\n",
    "df['dt'] = df['Date'].apply(lambda x: x[:10])"
   ]
  },
  {
   "cell_type": "code",
   "execution_count": 4,
   "metadata": {},
   "outputs": [],
   "source": [
    "test_params = {\n",
    "    \"target_metric\": \"rto\",\n",
    "    \"id_field\": \"CityName\",\n",
    "    \"time_series_field\": \"dt\",\n",
    "    \"number_of_neighbors\": 3,\n",
    "    \"test_units\": ['Пенза', 'Уфа', 'Курск', 'Нижний Тагил', 'Новокуйбышевск', 'Орск'],\n",
    "    \"alpha\": 0.05,\n",
    "    \"cuped_time\": 14,\n",
    "    \"start_of_test\": \"2022-04-07\",\n",
    "    \"days_for_knn\": 70,\n",
    "    \"days_for_validation\": 14,\n",
    "    \"days_for_test\": 14,\n",
    "    \"n_iter_bootstrap\": 100_000,\n",
    "}"
   ]
  },
  {
   "cell_type": "code",
   "execution_count": 5,
   "metadata": {},
   "outputs": [],
   "source": [
    "exp = tf(params_dict=test_params)"
   ]
  },
  {
   "cell_type": "code",
   "execution_count": 6,
   "metadata": {},
   "outputs": [
    {
     "name": "stdout",
     "output_type": "stream",
     "text": [
      "Подбор групп: с 2022-01-13 по 2022-03-24\n",
      "Валидация: с 2022-03-24 по 2022-04-07\n",
      "Тест: с 2022-04-07 по 2022-04-21\n"
     ]
    }
   ],
   "source": [
    "exp.create_periods()"
   ]
  },
  {
   "cell_type": "code",
   "execution_count": 7,
   "metadata": {},
   "outputs": [
    {
     "data": {
      "text/plain": [
       "(18420, 14)"
      ]
     },
     "execution_count": 7,
     "metadata": {},
     "output_type": "execute_result"
    }
   ],
   "source": [
    "# данные для обучения knn\n",
    "knn_data = df[\n",
    "    (df['dt'] >= exp.start_of_knn) & (df['dt'] < exp.start_of_validation)\n",
    "    & (df['OrderSource'] == 'web') & (df['Category'] == 'пицца')\n",
    "    ]\n",
    "knn_data.shape"
   ]
  },
  {
   "cell_type": "code",
   "execution_count": 8,
   "metadata": {},
   "outputs": [],
   "source": [
    "knn_data = knn_data[[\"dt\", \"CityName\", \"rto\"]]\n",
    "knn_data = knn_data[~knn_data[\"CityName\"].isin([\"Москва\", \"Санкт-Петербург\"])]"
   ]
  },
  {
   "cell_type": "code",
   "execution_count": 9,
   "metadata": {},
   "outputs": [
    {
     "data": {
      "text/html": [
       "<div>\n",
       "<style scoped>\n",
       "    .dataframe tbody tr th:only-of-type {\n",
       "        vertical-align: middle;\n",
       "    }\n",
       "\n",
       "    .dataframe tbody tr th {\n",
       "        vertical-align: top;\n",
       "    }\n",
       "\n",
       "    .dataframe thead th {\n",
       "        text-align: right;\n",
       "    }\n",
       "</style>\n",
       "<table border=\"1\" class=\"dataframe\">\n",
       "  <thead>\n",
       "    <tr style=\"text-align: right;\">\n",
       "      <th></th>\n",
       "      <th>dt</th>\n",
       "      <th>CityName</th>\n",
       "      <th>rto</th>\n",
       "    </tr>\n",
       "  </thead>\n",
       "  <tbody>\n",
       "    <tr>\n",
       "      <th>36170</th>\n",
       "      <td>2022-01-13</td>\n",
       "      <td>Абакан</td>\n",
       "      <td>30913.82</td>\n",
       "    </tr>\n",
       "    <tr>\n",
       "      <th>36182</th>\n",
       "      <td>2022-01-13</td>\n",
       "      <td>Абинск</td>\n",
       "      <td>3409.35</td>\n",
       "    </tr>\n",
       "    <tr>\n",
       "      <th>36193</th>\n",
       "      <td>2022-01-13</td>\n",
       "      <td>Азов</td>\n",
       "      <td>10963.47</td>\n",
       "    </tr>\n",
       "    <tr>\n",
       "      <th>36204</th>\n",
       "      <td>2022-01-13</td>\n",
       "      <td>Аксай Россия</td>\n",
       "      <td>11807.18</td>\n",
       "    </tr>\n",
       "    <tr>\n",
       "      <th>36214</th>\n",
       "      <td>2022-01-13</td>\n",
       "      <td>Александров</td>\n",
       "      <td>8372.84</td>\n",
       "    </tr>\n",
       "  </tbody>\n",
       "</table>\n",
       "</div>"
      ],
      "text/plain": [
       "               dt      CityName       rto\n",
       "36170  2022-01-13        Абакан  30913.82\n",
       "36182  2022-01-13        Абинск   3409.35\n",
       "36193  2022-01-13          Азов  10963.47\n",
       "36204  2022-01-13  Аксай Россия  11807.18\n",
       "36214  2022-01-13   Александров   8372.84"
      ]
     },
     "execution_count": 9,
     "metadata": {},
     "output_type": "execute_result"
    }
   ],
   "source": [
    "knn_data.head()"
   ]
  },
  {
   "cell_type": "code",
   "execution_count": 10,
   "metadata": {},
   "outputs": [],
   "source": [
    "knn_data_pivot = knn_data.pivot_table(\n",
    "    values=exp.target_metric,\n",
    "    columns=exp.time_series_field,\n",
    "    index=exp.id_field)"
   ]
  },
  {
   "cell_type": "code",
   "execution_count": 11,
   "metadata": {},
   "outputs": [],
   "source": [
    "cols = list(knn_data_pivot.columns)\n",
    "\n",
    "wrong_cities = []\n",
    "for i in cols:\n",
    "    one_row = knn_data_pivot.loc[:, i]\n",
    "    if one_row.isnull().values.any():\n",
    "        all_cities = list(one_row[one_row.isnull().values].index)\n",
    "        for i in all_cities:\n",
    "            if i not in wrong_cities:\n",
    "                wrong_cities.append(i)"
   ]
  },
  {
   "cell_type": "code",
   "execution_count": 12,
   "metadata": {},
   "outputs": [],
   "source": [
    "# оставляем города, включая мск и спб, кроме тех, где есть пропуски в данных\n",
    "test_wo_denied_ = [i for i in set(knn_data[exp.id_field]) if i not in wrong_cities]"
   ]
  },
  {
   "cell_type": "code",
   "execution_count": 13,
   "metadata": {},
   "outputs": [
    {
     "data": {
      "text/plain": [
       "225"
      ]
     },
     "execution_count": 13,
     "metadata": {},
     "output_type": "execute_result"
    }
   ],
   "source": [
    "len(test_wo_denied_)"
   ]
  },
  {
   "cell_type": "code",
   "execution_count": 14,
   "metadata": {},
   "outputs": [],
   "source": [
    "knn_data_clean = knn_data[knn_data[exp.id_field].isin(test_wo_denied_)]"
   ]
  },
  {
   "cell_type": "code",
   "execution_count": 15,
   "metadata": {},
   "outputs": [
    {
     "data": {
      "text/html": [
       "<div>\n",
       "<style scoped>\n",
       "    .dataframe tbody tr th:only-of-type {\n",
       "        vertical-align: middle;\n",
       "    }\n",
       "\n",
       "    .dataframe tbody tr th {\n",
       "        vertical-align: top;\n",
       "    }\n",
       "\n",
       "    .dataframe thead th {\n",
       "        text-align: right;\n",
       "    }\n",
       "</style>\n",
       "<table border=\"1\" class=\"dataframe\">\n",
       "  <thead>\n",
       "    <tr style=\"text-align: right;\">\n",
       "      <th></th>\n",
       "      <th>dt</th>\n",
       "      <th>CityName</th>\n",
       "      <th>rto</th>\n",
       "    </tr>\n",
       "  </thead>\n",
       "  <tbody>\n",
       "    <tr>\n",
       "      <th>36170</th>\n",
       "      <td>2022-01-13</td>\n",
       "      <td>Абакан</td>\n",
       "      <td>30913.82</td>\n",
       "    </tr>\n",
       "    <tr>\n",
       "      <th>36182</th>\n",
       "      <td>2022-01-13</td>\n",
       "      <td>Абинск</td>\n",
       "      <td>3409.35</td>\n",
       "    </tr>\n",
       "    <tr>\n",
       "      <th>36193</th>\n",
       "      <td>2022-01-13</td>\n",
       "      <td>Азов</td>\n",
       "      <td>10963.47</td>\n",
       "    </tr>\n",
       "    <tr>\n",
       "      <th>36204</th>\n",
       "      <td>2022-01-13</td>\n",
       "      <td>Аксай Россия</td>\n",
       "      <td>11807.18</td>\n",
       "    </tr>\n",
       "    <tr>\n",
       "      <th>36214</th>\n",
       "      <td>2022-01-13</td>\n",
       "      <td>Александров</td>\n",
       "      <td>8372.84</td>\n",
       "    </tr>\n",
       "  </tbody>\n",
       "</table>\n",
       "</div>"
      ],
      "text/plain": [
       "               dt      CityName       rto\n",
       "36170  2022-01-13        Абакан  30913.82\n",
       "36182  2022-01-13        Абинск   3409.35\n",
       "36193  2022-01-13          Азов  10963.47\n",
       "36204  2022-01-13  Аксай Россия  11807.18\n",
       "36214  2022-01-13   Александров   8372.84"
      ]
     },
     "execution_count": 15,
     "metadata": {},
     "output_type": "execute_result"
    }
   ],
   "source": [
    "knn_data.head()"
   ]
  },
  {
   "cell_type": "code",
   "execution_count": 16,
   "metadata": {},
   "outputs": [],
   "source": [
    "knn_pre_exp_clean_scld = exp.get_scaled_data(knn_data_clean)"
   ]
  },
  {
   "cell_type": "code",
   "execution_count": 17,
   "metadata": {},
   "outputs": [
    {
     "data": {
      "text/html": [
       "<div>\n",
       "<style scoped>\n",
       "    .dataframe tbody tr th:only-of-type {\n",
       "        vertical-align: middle;\n",
       "    }\n",
       "\n",
       "    .dataframe tbody tr th {\n",
       "        vertical-align: top;\n",
       "    }\n",
       "\n",
       "    .dataframe thead th {\n",
       "        text-align: right;\n",
       "    }\n",
       "</style>\n",
       "<table border=\"1\" class=\"dataframe\">\n",
       "  <thead>\n",
       "    <tr style=\"text-align: right;\">\n",
       "      <th></th>\n",
       "      <th>dt</th>\n",
       "      <th>CityName</th>\n",
       "      <th>rto</th>\n",
       "      <th>scaled_rto</th>\n",
       "    </tr>\n",
       "  </thead>\n",
       "  <tbody>\n",
       "    <tr>\n",
       "      <th>36170</th>\n",
       "      <td>2022-01-13</td>\n",
       "      <td>Абакан</td>\n",
       "      <td>30913.82</td>\n",
       "      <td>-0.117158</td>\n",
       "    </tr>\n",
       "    <tr>\n",
       "      <th>36182</th>\n",
       "      <td>2022-01-13</td>\n",
       "      <td>Абинск</td>\n",
       "      <td>3409.35</td>\n",
       "      <td>-0.661196</td>\n",
       "    </tr>\n",
       "    <tr>\n",
       "      <th>36193</th>\n",
       "      <td>2022-01-13</td>\n",
       "      <td>Азов</td>\n",
       "      <td>10963.47</td>\n",
       "      <td>-0.511776</td>\n",
       "    </tr>\n",
       "    <tr>\n",
       "      <th>36204</th>\n",
       "      <td>2022-01-13</td>\n",
       "      <td>Аксай Россия</td>\n",
       "      <td>11807.18</td>\n",
       "      <td>-0.495087</td>\n",
       "    </tr>\n",
       "    <tr>\n",
       "      <th>36214</th>\n",
       "      <td>2022-01-13</td>\n",
       "      <td>Александров</td>\n",
       "      <td>8372.84</td>\n",
       "      <td>-0.563019</td>\n",
       "    </tr>\n",
       "  </tbody>\n",
       "</table>\n",
       "</div>"
      ],
      "text/plain": [
       "               dt      CityName       rto  scaled_rto\n",
       "36170  2022-01-13        Абакан  30913.82   -0.117158\n",
       "36182  2022-01-13        Абинск   3409.35   -0.661196\n",
       "36193  2022-01-13          Азов  10963.47   -0.511776\n",
       "36204  2022-01-13  Аксай Россия  11807.18   -0.495087\n",
       "36214  2022-01-13   Александров   8372.84   -0.563019"
      ]
     },
     "execution_count": 17,
     "metadata": {},
     "output_type": "execute_result"
    }
   ],
   "source": [
    "knn_pre_exp_clean_scld.head()"
   ]
  },
  {
   "cell_type": "code",
   "execution_count": 18,
   "metadata": {},
   "outputs": [],
   "source": [
    "knn_vectors, ids_dict = exp.get_vectors(knn_pre_exp_clean_scld)"
   ]
  },
  {
   "cell_type": "code",
   "execution_count": 19,
   "metadata": {},
   "outputs": [
    {
     "data": {
      "text/plain": [
       "{145: 0.0, 163: 0.8292199291710258, 181: 0.8370046681002036}"
      ]
     },
     "execution_count": 19,
     "metadata": {},
     "output_type": "execute_result"
    }
   ],
   "source": [
    "exp.get_k_neighbors_default(knn_vectors, \"Орск\")"
   ]
  },
  {
   "cell_type": "code",
   "execution_count": 20,
   "metadata": {},
   "outputs": [
    {
     "data": {
      "text/plain": [
       "{'Анапа': 0.6141279166639553,\n",
       " 'Прокопьевск': 0.6152168199560157,\n",
       " 'Стерлитамак': 0.6189428055104526}"
      ]
     },
     "execution_count": 20,
     "metadata": {},
     "output_type": "execute_result"
    }
   ],
   "source": [
    "exp.get_k_neighbors_dtw(knn_vectors, \"Орск\")"
   ]
  },
  {
   "cell_type": "code",
   "execution_count": 21,
   "metadata": {},
   "outputs": [
    {
     "data": {
      "text/plain": [
       "{'Пенза': ['Рязань', 'Чита', 'Благовещенск'],\n",
       " 'Уфа': ['Оренбург', 'Волгоград', 'Томск'],\n",
       " 'Курск': ['Волжский', 'Березники', 'Братск'],\n",
       " 'Нижний Тагил': ['Мурино', 'Парголово', 'Братск'],\n",
       " 'Новокуйбышевск': ['Альметьевск', 'Красное Село', 'Звенигород'],\n",
       " 'Орск': ['Анапа', 'Прокопьевск', 'Стерлитамак']}"
      ]
     },
     "execution_count": 21,
     "metadata": {},
     "output_type": "execute_result"
    }
   ],
   "source": [
    "all_neighbours_dtw = exp.get_all_neighbors_dtw(knn_vectors)\n",
    "all_neighbours_dtw"
   ]
  },
  {
   "cell_type": "code",
   "execution_count": 22,
   "metadata": {},
   "outputs": [
    {
     "data": {
      "text/plain": [
       "{'test_units': ['Пенза',\n",
       "  'Уфа',\n",
       "  'Курск',\n",
       "  'Нижний Тагил',\n",
       "  'Новокуйбышевск',\n",
       "  'Орск'],\n",
       " 'control_units': ['Рязань',\n",
       "  'Оренбург',\n",
       "  'Волжский',\n",
       "  'Мурино',\n",
       "  'Альметьевск',\n",
       "  'Анапа']}"
      ]
     },
     "execution_count": 22,
     "metadata": {},
     "output_type": "execute_result"
    }
   ],
   "source": [
    "all_groups_dtw = exp.get_test_control_groups(all_neighbours_dtw)\n",
    "all_groups_dtw"
   ]
  },
  {
   "cell_type": "markdown",
   "metadata": {},
   "source": [
    "### VAL"
   ]
  },
  {
   "cell_type": "code",
   "execution_count": 23,
   "metadata": {},
   "outputs": [
    {
     "data": {
      "text/plain": [
       "(168, 14)"
      ]
     },
     "execution_count": 23,
     "metadata": {},
     "output_type": "execute_result"
    }
   ],
   "source": [
    "# данные для валидации\n",
    "from functools import reduce\n",
    "import operator\n",
    "all_units = reduce(operator.iconcat, all_groups_dtw.values(), [])\n",
    "validation_data = df[\n",
    "    (df['dt'] >= exp.start_of_validation) & (df['dt'] < exp.start_of_test)\n",
    "    & (df['OrderSource'] == 'web') & (df['Category'] == 'пицца')\n",
    "    & (df[\"CityName\"].isin(all_units))\n",
    "    ]\n",
    "validation_data.shape"
   ]
  },
  {
   "cell_type": "code",
   "execution_count": 24,
   "metadata": {},
   "outputs": [
    {
     "data": {
      "text/plain": [
       "'20240718_131651'"
      ]
     },
     "execution_count": 24,
     "metadata": {},
     "output_type": "execute_result"
    }
   ],
   "source": [
    "from datetime import datetime\n",
    "datetime.today().strftime(\"%Y%m%d_%H%M%S\")"
   ]
  },
  {
   "cell_type": "code",
   "execution_count": 25,
   "metadata": {},
   "outputs": [
    {
     "data": {
      "application/vnd.jupyter.widget-view+json": {
       "model_id": "b8315d88a50946d691ad27e120b8d021",
       "version_major": 2,
       "version_minor": 0
      },
      "text/plain": [
       "  0%|          | 0/100000 [00:00<?, ?it/s]"
      ]
     },
     "metadata": {},
     "output_type": "display_data"
    },
    {
     "data": {
      "text/plain": [
       "{'aa_test': False,\n",
       " 'ab_test': False,\n",
       " 'pe_aa': 3018.8733166666716,\n",
       " 'pe_ab': 10018.873316666672,\n",
       " 'ci_aa': (-6939.742879374993, 13145.502081666662),\n",
       " 'ci_ab': (-24.312326041666893, 20107.97943375),\n",
       " 'p_value_aa_boot': 0.55579,\n",
       " 'p_value_ab_boot': 0.05108}"
      ]
     },
     "execution_count": 25,
     "metadata": {},
     "output_type": "execute_result"
    }
   ],
   "source": [
    "exp.bootstrap(\n",
    "    validation_data,\n",
    "    np.mean,\n",
    "    7000,\n",
    "    directory_path=\"C:/Users/repin/Desktop/GitHub/TestLab/development/graphs\",\n",
    "    test_id=\"test\"\n",
    ")"
   ]
  },
  {
   "cell_type": "code",
   "execution_count": 25,
   "metadata": {},
   "outputs": [
    {
     "data": {
      "text/plain": [
       "{'test_units': ['Пенза',\n",
       "  'Уфа',\n",
       "  'Курск',\n",
       "  'Нижний Тагил',\n",
       "  'Новокуйбышевск',\n",
       "  'Орск'],\n",
       " 'control_units': ['Рязань',\n",
       "  'Оренбург',\n",
       "  'Волжский',\n",
       "  'Мурино',\n",
       "  'Альметьевск',\n",
       "  'Анапа']}"
      ]
     },
     "execution_count": 25,
     "metadata": {},
     "output_type": "execute_result"
    }
   ],
   "source": [
    "all_groups_dtw"
   ]
  },
  {
   "cell_type": "code",
   "execution_count": 25,
   "metadata": {},
   "outputs": [],
   "source": [
    "pilot_df_sort, pre_pilot_df_sort = exp.sort_merge_for_cuped(\n",
    "    knn_data_clean,\n",
    "    validation_data,\n",
    "    all_groups_dtw\n",
    ")"
   ]
  },
  {
   "cell_type": "code",
   "execution_count": 26,
   "metadata": {},
   "outputs": [
    {
     "data": {
      "text/plain": [
       "(168, 6)"
      ]
     },
     "execution_count": 26,
     "metadata": {},
     "output_type": "execute_result"
    }
   ],
   "source": [
    "pilot_df_sort.shape"
   ]
  },
  {
   "cell_type": "code",
   "execution_count": 27,
   "metadata": {},
   "outputs": [
    {
     "data": {
      "text/html": [
       "<div>\n",
       "<style scoped>\n",
       "    .dataframe tbody tr th:only-of-type {\n",
       "        vertical-align: middle;\n",
       "    }\n",
       "\n",
       "    .dataframe tbody tr th {\n",
       "        vertical-align: top;\n",
       "    }\n",
       "\n",
       "    .dataframe thead th {\n",
       "        text-align: right;\n",
       "    }\n",
       "</style>\n",
       "<table border=\"1\" class=\"dataframe\">\n",
       "  <thead>\n",
       "    <tr style=\"text-align: right;\">\n",
       "      <th></th>\n",
       "      <th>dt</th>\n",
       "      <th>CityName</th>\n",
       "      <th>rto</th>\n",
       "      <th>weekday</th>\n",
       "      <th>row_number</th>\n",
       "      <th>period</th>\n",
       "    </tr>\n",
       "  </thead>\n",
       "  <tbody>\n",
       "    <tr>\n",
       "      <th>261026</th>\n",
       "      <td>2022-03-28</td>\n",
       "      <td>Альметьевск</td>\n",
       "      <td>14697.69</td>\n",
       "      <td>1</td>\n",
       "      <td>0</td>\n",
       "      <td>pilot</td>\n",
       "    </tr>\n",
       "    <tr>\n",
       "      <th>282240</th>\n",
       "      <td>2022-04-04</td>\n",
       "      <td>Альметьевск</td>\n",
       "      <td>8212.19</td>\n",
       "      <td>1</td>\n",
       "      <td>1</td>\n",
       "      <td>pilot</td>\n",
       "    </tr>\n",
       "  </tbody>\n",
       "</table>\n",
       "</div>"
      ],
      "text/plain": [
       "                dt     CityName       rto  weekday  row_number period\n",
       "261026  2022-03-28  Альметьевск  14697.69        1           0  pilot\n",
       "282240  2022-04-04  Альметьевск   8212.19        1           1  pilot"
      ]
     },
     "execution_count": 27,
     "metadata": {},
     "output_type": "execute_result"
    }
   ],
   "source": [
    "pilot_df_sort.head(2)"
   ]
  },
  {
   "cell_type": "code",
   "execution_count": 28,
   "metadata": {},
   "outputs": [
    {
     "name": "stdout",
     "output_type": "stream",
     "text": [
      "Theta is: 1.1297825720556836\n"
     ]
    }
   ],
   "source": [
    "cuped_df = exp.calculate_cuped_metric(\n",
    "    pre_pilot_df_sort,\n",
    "    pilot_df_sort\n",
    ")"
   ]
  },
  {
   "cell_type": "code",
   "execution_count": 29,
   "metadata": {},
   "outputs": [
    {
     "data": {
      "text/plain": [
       "(168, 11)"
      ]
     },
     "execution_count": 29,
     "metadata": {},
     "output_type": "execute_result"
    }
   ],
   "source": [
    "cuped_df.shape"
   ]
  },
  {
   "cell_type": "code",
   "execution_count": 30,
   "metadata": {},
   "outputs": [
    {
     "data": {
      "text/html": [
       "<div>\n",
       "<style scoped>\n",
       "    .dataframe tbody tr th:only-of-type {\n",
       "        vertical-align: middle;\n",
       "    }\n",
       "\n",
       "    .dataframe tbody tr th {\n",
       "        vertical-align: top;\n",
       "    }\n",
       "\n",
       "    .dataframe thead th {\n",
       "        text-align: right;\n",
       "    }\n",
       "</style>\n",
       "<table border=\"1\" class=\"dataframe\">\n",
       "  <thead>\n",
       "    <tr style=\"text-align: right;\">\n",
       "      <th></th>\n",
       "      <th>dt_prepilot</th>\n",
       "      <th>CityName</th>\n",
       "      <th>rto_prepilot</th>\n",
       "      <th>weekday_prepilot</th>\n",
       "      <th>row_number</th>\n",
       "      <th>period_prepilot</th>\n",
       "      <th>dt_pilot</th>\n",
       "      <th>rto_pilot</th>\n",
       "      <th>weekday_pilot</th>\n",
       "      <th>period_pilot</th>\n",
       "      <th>rto_cuped</th>\n",
       "    </tr>\n",
       "  </thead>\n",
       "  <tbody>\n",
       "    <tr>\n",
       "      <th>0</th>\n",
       "      <td>2022-03-14</td>\n",
       "      <td>Альметьевск</td>\n",
       "      <td>12891.4247</td>\n",
       "      <td>1</td>\n",
       "      <td>0</td>\n",
       "      <td>history</td>\n",
       "      <td>2022-03-28</td>\n",
       "      <td>14697.69</td>\n",
       "      <td>1</td>\n",
       "      <td>pilot</td>\n",
       "      <td>133.183045</td>\n",
       "    </tr>\n",
       "    <tr>\n",
       "      <th>1</th>\n",
       "      <td>2022-03-21</td>\n",
       "      <td>Альметьевск</td>\n",
       "      <td>14125.3000</td>\n",
       "      <td>1</td>\n",
       "      <td>1</td>\n",
       "      <td>history</td>\n",
       "      <td>2022-04-04</td>\n",
       "      <td>8212.19</td>\n",
       "      <td>1</td>\n",
       "      <td>pilot</td>\n",
       "      <td>-7746.327765</td>\n",
       "    </tr>\n",
       "  </tbody>\n",
       "</table>\n",
       "</div>"
      ],
      "text/plain": [
       "  dt_prepilot     CityName  rto_prepilot  weekday_prepilot  row_number  \\\n",
       "0  2022-03-14  Альметьевск    12891.4247                 1           0   \n",
       "1  2022-03-21  Альметьевск    14125.3000                 1           1   \n",
       "\n",
       "  period_prepilot    dt_pilot  rto_pilot  weekday_pilot period_pilot  \\\n",
       "0         history  2022-03-28   14697.69              1        pilot   \n",
       "1         history  2022-04-04    8212.19              1        pilot   \n",
       "\n",
       "     rto_cuped  \n",
       "0   133.183045  \n",
       "1 -7746.327765  "
      ]
     },
     "execution_count": 30,
     "metadata": {},
     "output_type": "execute_result"
    }
   ],
   "source": [
    "cuped_df.head(2)"
   ]
  },
  {
   "cell_type": "markdown",
   "metadata": {},
   "source": [
    "### BOOTSTRAP in VAL with CUPED"
   ]
  },
  {
   "cell_type": "code",
   "execution_count": 31,
   "metadata": {},
   "outputs": [
    {
     "data": {
      "application/vnd.jupyter.widget-view+json": {
       "model_id": "411ea5d5bc44467080f4d786ec30e217",
       "version_major": 2,
       "version_minor": 0
      },
      "text/plain": [
       "  0%|          | 0/100000 [00:00<?, ?it/s]"
      ]
     },
     "metadata": {},
     "output_type": "display_data"
    },
    {
     "data": {
      "image/png": "[encoded data removed]",
      "text/plain": [
       "<Figure size 1080x432 with 1 Axes>"
      ]
     },
     "metadata": {
      "needs_background": "light"
     },
     "output_type": "display_data"
    },
    {
     "data": {
      "image/png": "[encoded data removed]",
      "text/plain": [
       "<Figure size 1080x432 with 1 Axes>"
      ]
     },
     "metadata": {
      "needs_background": "light"
     },
     "output_type": "display_data"
    }
   ],
   "source": [
    "exp.bootstrap(\n",
    "    cuped_df,\n",
    "    np.mean,\n",
    "    3750,\n",
    "    is_cuped=True,\n",
    "    verbose=True\n",
    ")"
   ]
  }
 ],
 "metadata": {
  "kernelspec": {
   "display_name": "base",
   "language": "python",
   "name": "python3"
  },
  "language_info": {
   "codemirror_mode": {
    "name": "ipython",
    "version": 3
   },
   "file_extension": ".py",
   "mimetype": "text/x-python",
   "name": "python",
   "nbconvert_exporter": "python",
   "pygments_lexer": "ipython3",
   "version": "3.8.3"
  }
 },
 "nbformat": 4,
 "nbformat_minor": 2
}
