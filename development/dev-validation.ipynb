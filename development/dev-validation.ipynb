{
 "cells": [
  {
   "cell_type": "markdown",
   "metadata": {},
   "source": [
    "### head"
   ]
  },
  {
   "cell_type": "code",
   "execution_count": 1,
   "metadata": {},
   "outputs": [],
   "source": [
    "import visualization as viz\n",
    "import pandas as pd\n",
    "import numpy as np\n",
    "import warnings\n",
    "import operator\n",
    "\n",
    "from functools import reduce\n",
    "from tqdm.notebook import tqdm\n",
    "from test_flow import ABCore as tf\n",
    "\n",
    "warnings.filterwarnings(\"ignore\")"
   ]
  },
  {
   "cell_type": "code",
   "execution_count": 2,
   "metadata": {},
   "outputs": [],
   "source": [
    "path = r\"C:\\Users\\repin\\Desktop\\GitHub\\TestLab\\development\\test-data.csv\"\n",
    "df = pd.read_csv(path)"
   ]
  },
  {
   "cell_type": "code",
   "execution_count": 3,
   "metadata": {},
   "outputs": [],
   "source": [
    "# добавим данные по месяцу и дате в удобном формате\n",
    "df['month'] = df['Date'].apply(lambda x: x[:7])\n",
    "df['dt'] = df['Date'].apply(lambda x: x[:10])"
   ]
  },
  {
   "cell_type": "code",
   "execution_count": 4,
   "metadata": {},
   "outputs": [],
   "source": [
    "df = df[(df['OrderSource'] == 'web') & (df['Category'] == 'пицца')]"
   ]
  },
  {
   "cell_type": "code",
   "execution_count": 5,
   "metadata": {},
   "outputs": [],
   "source": [
    "df = df[[\"dt\", \"CityName\", \"rto\"]]\n",
    "df = df[~df[\"CityName\"].isin([\"Москва\", \"Санкт-Петербург\"])]"
   ]
  },
  {
   "cell_type": "code",
   "execution_count": 6,
   "metadata": {},
   "outputs": [],
   "source": [
    "df_pivot = df.pivot_table(\n",
    "    values=\"rto\",\n",
    "    columns=\"dt\",\n",
    "    index=\"CityName\"\n",
    ")"
   ]
  },
  {
   "cell_type": "code",
   "execution_count": 7,
   "metadata": {},
   "outputs": [],
   "source": [
    "cols = list(df_pivot.columns)\n",
    "\n",
    "wrong_cities = []\n",
    "for i in cols:\n",
    "    one_row = df_pivot.loc[:, i]\n",
    "    if one_row.isnull().values.any():\n",
    "        all_cities = list(one_row[one_row.isnull().values].index)\n",
    "        for i in all_cities:\n",
    "            if i not in wrong_cities:\n",
    "                wrong_cities.append(i)"
   ]
  },
  {
   "cell_type": "code",
   "execution_count": 8,
   "metadata": {},
   "outputs": [],
   "source": [
    "# убираем города, где есть пропуски в данных\n",
    "test_wo_denied_ = [i for i in set(df[\"CityName\"]) if i not in wrong_cities]"
   ]
  },
  {
   "cell_type": "code",
   "execution_count": 9,
   "metadata": {},
   "outputs": [
    {
     "data": {
      "text/plain": [
       "196"
      ]
     },
     "execution_count": 9,
     "metadata": {},
     "output_type": "execute_result"
    }
   ],
   "source": [
    "len(test_wo_denied_)"
   ]
  },
  {
   "cell_type": "code",
   "execution_count": 10,
   "metadata": {},
   "outputs": [],
   "source": [
    "df_clean = df[df[\"CityName\"].isin(test_wo_denied_)]"
   ]
  },
  {
   "cell_type": "code",
   "execution_count": 11,
   "metadata": {},
   "outputs": [
    {
     "data": {
      "text/plain": [
       "(35476, 3)"
      ]
     },
     "execution_count": 11,
     "metadata": {},
     "output_type": "execute_result"
    }
   ],
   "source": [
    "df_clean.shape"
   ]
  },
  {
   "cell_type": "code",
   "execution_count": 12,
   "metadata": {},
   "outputs": [
    {
     "data": {
      "text/plain": [
       "(181, 196)"
      ]
     },
     "execution_count": 12,
     "metadata": {},
     "output_type": "execute_result"
    }
   ],
   "source": [
    "len(set(df_clean[\"dt\"])), len(set(df_clean[\"CityName\"]))"
   ]
  },
  {
   "cell_type": "code",
   "execution_count": 13,
   "metadata": {},
   "outputs": [
    {
     "data": {
      "text/plain": [
       "('2022-03-13', '2022-06-02')"
      ]
     },
     "execution_count": 13,
     "metadata": {},
     "output_type": "execute_result"
    }
   ],
   "source": [
    "knn_period_days = 56\n",
    "validation_days = 14\n",
    "test_days = 14\n",
    "\n",
    "validation_min_start_date = sorted(list(set(df_clean[\"dt\"].tolist())))[knn_period_days+test_days+1]\n",
    "validation_max_start_date = sorted(list(set(df_clean[\"dt\"].tolist())))[-validation_days-test_days-1]\n",
    "\n",
    "validation_min_start_date, validation_max_start_date"
   ]
  },
  {
   "cell_type": "code",
   "execution_count": 14,
   "metadata": {},
   "outputs": [
    {
     "data": {
      "text/plain": [
       "82"
      ]
     },
     "execution_count": 14,
     "metadata": {},
     "output_type": "execute_result"
    }
   ],
   "source": [
    "date_list = pd.date_range(\n",
    "    start=validation_min_start_date,\n",
    "    end=validation_max_start_date,\n",
    "    freq=\"D\",\n",
    ")\n",
    "date_list_str = [str(i)[:10] for i in date_list]\n",
    "len(date_list_str)"
   ]
  },
  {
   "cell_type": "code",
   "execution_count": 15,
   "metadata": {},
   "outputs": [],
   "source": [
    "unit_list = list(set(df_clean[\"CityName\"]))"
   ]
  },
  {
   "cell_type": "code",
   "execution_count": 16,
   "metadata": {},
   "outputs": [
    {
     "data": {
      "text/plain": [
       "('2022-04-06', ['Орск', 'Набережные Челны', 'Магнитогорск'])"
      ]
     },
     "execution_count": 16,
     "metadata": {},
     "output_type": "execute_result"
    }
   ],
   "source": [
    "np.random.choice(date_list_str, 1)[0], list(np.random.choice(unit_list, 3))"
   ]
  },
  {
   "cell_type": "markdown",
   "metadata": {},
   "source": [
    "### VAL"
   ]
  },
  {
   "cell_type": "code",
   "execution_count": 17,
   "metadata": {},
   "outputs": [],
   "source": [
    "# default params\n",
    "test_params = {\n",
    "    \"target_metric\": \"rto\",\n",
    "    \"id_field\": \"CityName\",\n",
    "    \"time_series_field\": \"dt\",\n",
    "    \"number_of_neighbors\": 3,\n",
    "    \"test_units\": [],\n",
    "    \"alpha\": 0.05,\n",
    "    \"cuped_time\": 14,\n",
    "    \"start_of_test\": \"2022-04-07\",\n",
    "    \"days_for_knn\": 56,\n",
    "    \"days_for_validation\": 14,\n",
    "    \"days_for_test\": 14,\n",
    "    \"n_iter_bootstrap\": 10_000,\n",
    "}"
   ]
  },
  {
   "cell_type": "code",
   "execution_count": 18,
   "metadata": {},
   "outputs": [],
   "source": [
    "# зададим параметры для эксперимента\n",
    "test_params = {\n",
    "    \"target_metric\": \"rto\",\n",
    "    \"id_field\": \"CityName\",\n",
    "    \"time_series_field\": \"dt\",\n",
    "    \"number_of_neighbors\": 3,\n",
    "    \"test_units\": [],\n",
    "    \"alpha\": 0.05,\n",
    "    \"cuped_time\": 14,\n",
    "    \"start_of_test\": \"2022-04-07\",\n",
    "    \"days_for_knn\": 56,\n",
    "    \"days_for_validation\": 14,\n",
    "    \"days_for_test\": 35,\n",
    "    \"n_iter_bootstrap\": 10_000,\n",
    "}"
   ]
  },
  {
   "cell_type": "code",
   "execution_count": 19,
   "metadata": {},
   "outputs": [
    {
     "data": {
      "text/html": [
       "<div>\n",
       "<style scoped>\n",
       "    .dataframe tbody tr th:only-of-type {\n",
       "        vertical-align: middle;\n",
       "    }\n",
       "\n",
       "    .dataframe tbody tr th {\n",
       "        vertical-align: top;\n",
       "    }\n",
       "\n",
       "    .dataframe thead th {\n",
       "        text-align: right;\n",
       "    }\n",
       "</style>\n",
       "<table border=\"1\" class=\"dataframe\">\n",
       "  <thead>\n",
       "    <tr style=\"text-align: right;\">\n",
       "      <th></th>\n",
       "      <th>dt</th>\n",
       "      <th>CityName</th>\n",
       "      <th>rto</th>\n",
       "    </tr>\n",
       "  </thead>\n",
       "  <tbody>\n",
       "    <tr>\n",
       "      <th>7</th>\n",
       "      <td>2022-01-01</td>\n",
       "      <td>Абакан</td>\n",
       "      <td>39132.1742</td>\n",
       "    </tr>\n",
       "    <tr>\n",
       "      <th>30</th>\n",
       "      <td>2022-01-01</td>\n",
       "      <td>Азов</td>\n",
       "      <td>9856.7700</td>\n",
       "    </tr>\n",
       "  </tbody>\n",
       "</table>\n",
       "</div>"
      ],
      "text/plain": [
       "            dt CityName         rto\n",
       "7   2022-01-01   Абакан  39132.1742\n",
       "30  2022-01-01     Азов   9856.7700"
      ]
     },
     "execution_count": 19,
     "metadata": {},
     "output_type": "execute_result"
    }
   ],
   "source": [
    "df_clean.head(2)"
   ]
  },
  {
   "cell_type": "code",
   "execution_count": 31,
   "metadata": {},
   "outputs": [
    {
     "data": {
      "application/vnd.jupyter.widget-view+json": {
       "model_id": "03b74b46ec344fe294ce351f407fd8f1",
       "version_major": 2,
       "version_minor": 0
      },
      "text/plain": [
       "  0%|          | 0/500 [00:00<?, ?it/s]"
      ]
     },
     "metadata": {},
     "output_type": "display_data"
    },
    {
     "name": "stdout",
     "output_type": "stream",
     "text": [
      "Theta is: 1.61926837319455\n",
      "Theta is: 1.114772686793093\n",
      "Theta is: 1.3114200085659655\n",
      "Theta is: 1.0930145388573418\n",
      "Theta is: 0.9989646579154036\n",
      "Theta is: 1.2179287787459627\n",
      "Theta is: 1.1187561628414615\n",
      "Theta is: 1.2856577733001449\n",
      "Theta is: 1.1244935166738395\n",
      "Theta is: 0.7790927399348437\n",
      "Theta is: 1.6972088268331185\n",
      "Theta is: 1.1680663041616022\n",
      "Theta is: 1.1491303240710733\n",
      "Theta is: 1.00941136850195\n",
      "Theta is: 1.4004758055435504\n",
      "Theta is: 1.6083229460776725\n",
      "Theta is: 1.055169334700508\n",
      "Theta is: 1.1772638770748591\n",
      "Theta is: 1.1441028871806498\n",
      "Theta is: 1.1068166252150675\n",
      "Theta is: 1.0141458562954726\n",
      "Theta is: 1.0803791294215783\n",
      "Theta is: 1.1146070242557056\n",
      "Theta is: 1.1391201173786727\n",
      "Theta is: 1.0696733693920457\n",
      "Theta is: 1.3548008955322266\n",
      "Theta is: 1.5987448322802713\n",
      "Theta is: 1.0569076475295376\n",
      "Theta is: 1.7317213349456055\n",
      "Theta is: 1.2248539753255712\n",
      "Theta is: 1.2475198122684028\n",
      "Theta is: 1.1950232312250182\n",
      "Theta is: 1.0098856758041328\n",
      "Theta is: 1.6917421083824655\n",
      "Theta is: 1.291062451698154\n",
      "Theta is: 1.080790457865782\n",
      "Theta is: 1.1920061761844118\n",
      "Theta is: 1.3029846332101789\n",
      "Theta is: 1.2377115357941524\n",
      "Theta is: 1.2117285122323351\n",
      "Theta is: 1.9831681008944764\n",
      "Theta is: 1.0251965020604807\n",
      "Theta is: 1.0856036538590075\n",
      "Theta is: 1.2159110928267336\n",
      "Theta is: 1.0465798830616968\n",
      "Theta is: 1.1166598204427944\n",
      "Theta is: 1.4244893878373945\n",
      "Theta is: 1.7428415789963858\n",
      "Theta is: 1.2648376230973468\n",
      "Theta is: 1.043440484175135\n",
      "Theta is: 2.741328782709139\n",
      "Theta is: 1.0988731547416917\n",
      "Theta is: 1.127145117391883\n",
      "Theta is: 1.8454413710331927\n",
      "Theta is: 1.1107550978626566\n",
      "Theta is: 0.8999001019568995\n",
      "Theta is: 1.0590378999286947\n",
      "Theta is: 1.0286628403219755\n",
      "Theta is: 1.3462247985314224\n",
      "Theta is: 1.1753843927045469\n",
      "Theta is: 1.2972774052371845\n",
      "Theta is: 1.1294081136465595\n",
      "Theta is: 1.1315387694319303\n",
      "Theta is: 1.3099032783840334\n",
      "Theta is: 1.3220507256278788\n",
      "Theta is: 0.9998981633951222\n",
      "Theta is: 1.2719603783596634\n",
      "Theta is: 1.1327457091109951\n",
      "Theta is: 1.3223435790516391\n",
      "Theta is: 1.323215671406644\n",
      "Theta is: 1.0492095136803945\n",
      "Theta is: 1.1703228692759484\n",
      "Theta is: 1.2558919912674302\n",
      "Theta is: 1.4957030473803126\n",
      "Theta is: 1.3003063707649367\n",
      "Theta is: 1.072517592821459\n",
      "Theta is: 1.3126809728769793\n",
      "Theta is: 1.601053676926105\n",
      "Theta is: 1.349753380931223\n",
      "Theta is: 1.2573580598445915\n",
      "Theta is: 1.2666432762215658\n",
      "Theta is: 1.2047314024151732\n",
      "Theta is: 1.2993527110945422\n",
      "Theta is: 1.1389046797242195\n",
      "Theta is: 1.4997159556619382\n",
      "Theta is: 1.0817294432258613\n",
      "Theta is: 1.3298573167792191\n",
      "Theta is: 1.054276444002422\n",
      "Theta is: 1.3406736355915267\n",
      "Theta is: 1.0175467744575724\n",
      "Theta is: 1.3667139963488397\n",
      "Theta is: 1.4670846141208387\n",
      "Theta is: 1.179813263779105\n",
      "Theta is: 0.736936595161869\n",
      "Theta is: 1.0116534050182584\n",
      "Theta is: 1.832217691110481\n",
      "Theta is: 1.1905081991962605\n",
      "Theta is: 1.0917460047395924\n",
      "Theta is: 1.1413428073978606\n",
      "Theta is: 1.2538513457732463\n",
      "Theta is: 1.017028060598573\n",
      "Theta is: 1.4382507848152626\n",
      "Theta is: 1.1575911245960269\n",
      "Theta is: 1.060808277366744\n",
      "Theta is: 1.1163222882500614\n",
      "Theta is: 1.0234582628371338\n",
      "Theta is: 1.1855489284655327\n",
      "Theta is: 1.8883084005797062\n",
      "Theta is: 1.3060551070265145\n",
      "Theta is: 1.5185440088972617\n",
      "Theta is: 1.4723989082337143\n",
      "Theta is: 1.1786888311507198\n",
      "Theta is: 1.3063374016353675\n",
      "Theta is: 1.1412334727709874\n",
      "Theta is: 1.2173630053480107\n",
      "Theta is: 1.0195905067419058\n",
      "Theta is: 1.102130965456721\n",
      "Theta is: 1.250414008751724\n",
      "Theta is: 1.2475851169538452\n",
      "Theta is: 1.3444808268922495\n",
      "Theta is: 1.3012872605898174\n",
      "Theta is: 0.999869023890128\n",
      "Theta is: 1.1835123612714982\n",
      "Theta is: 1.1686625445944776\n",
      "Theta is: 1.0836358082524695\n",
      "Theta is: 1.7459475296451041\n",
      "Theta is: 1.085299689518206\n",
      "Theta is: 1.0115232034434538\n",
      "Theta is: 1.103667988121454\n",
      "Theta is: 1.558124934592869\n",
      "Theta is: 1.045969252573267\n",
      "Theta is: 1.179336843438103\n",
      "Theta is: 1.0110481020802908\n",
      "Theta is: 1.1509201701047491\n",
      "Theta is: 0.9679234122871885\n",
      "Theta is: 1.1702174806670134\n",
      "Theta is: 1.1595620509295068\n",
      "Theta is: 1.3851558710506253\n",
      "Theta is: 1.520605424408687\n",
      "Theta is: 1.1950966035263535\n",
      "Theta is: 1.1293478189262958\n",
      "Theta is: 1.3117191656831368\n",
      "Theta is: 1.114796440196061\n",
      "Theta is: 1.6943424705270815\n",
      "Theta is: 1.0499624201800484\n",
      "Theta is: 1.3649956931294063\n",
      "Theta is: 1.2241181252486446\n",
      "Theta is: 1.094342783642746\n",
      "Theta is: 1.021844669570237\n",
      "Theta is: 1.1939819428499296\n",
      "Theta is: 1.9637668345207864\n",
      "Theta is: 1.3008629336134476\n",
      "Theta is: 1.4918925299187045\n",
      "Theta is: 1.2407517001354333\n",
      "Theta is: 1.0054081381173323\n",
      "Theta is: 1.141820057869827\n",
      "Theta is: 1.1314681398515625\n",
      "Theta is: 1.0525205330331768\n",
      "Theta is: 0.9582513242956079\n",
      "Theta is: 1.0342567901380553\n",
      "Theta is: 1.118099021359822\n",
      "Theta is: 1.555179287855118\n",
      "Theta is: 1.388098522239786\n",
      "Theta is: 1.0763567311541522\n",
      "Theta is: 0.9941041950824203\n",
      "Theta is: 1.1277648186243492\n",
      "Theta is: 1.211461970263476\n",
      "Theta is: 1.2390588927854742\n",
      "Theta is: 0.9846608094250198\n",
      "Theta is: 1.1924998505594495\n",
      "Theta is: 1.2399207660697538\n",
      "Theta is: 1.314348152940491\n",
      "Theta is: 1.1285765290289904\n",
      "Theta is: 1.3155134447791867\n",
      "Theta is: 1.3666583900601652\n",
      "Theta is: 1.2372399411333102\n",
      "Theta is: 1.10372674183726\n",
      "Theta is: 2.6195139242623355\n",
      "Theta is: 1.1416110837563191\n",
      "Theta is: 0.9986955198998024\n",
      "Theta is: 0.9998050646827676\n",
      "Theta is: 1.3643681640367886\n",
      "Theta is: 1.1804864574841687\n",
      "Theta is: 1.3938644463478254\n",
      "Theta is: 1.1502856273891213\n",
      "Theta is: 1.3719636433122004\n",
      "Theta is: 0.9891196122249947\n",
      "Theta is: 1.1017603440792352\n",
      "Theta is: 1.1372451508059709\n",
      "Theta is: 1.0520246056897502\n",
      "Theta is: 1.3753496948414\n",
      "Theta is: 1.1166589399929578\n",
      "Theta is: 1.4228363379524633\n",
      "Theta is: 1.0260261803809896\n",
      "Theta is: 1.0212238501113633\n",
      "Theta is: 1.3083746687223818\n",
      "Theta is: 1.3485424941721886\n",
      "Theta is: 1.0287383966347439\n",
      "Theta is: 1.2671324102274404\n",
      "Theta is: 1.0963546590718403\n",
      "Theta is: 0.963226810244495\n",
      "Theta is: 1.280442108135252\n",
      "Theta is: 1.0589799112068958\n",
      "Theta is: 1.451692251773593\n",
      "Theta is: 1.4622646470155096\n",
      "Theta is: 1.3721393999791327\n",
      "Theta is: 1.2806710153300989\n",
      "Theta is: 1.249726053445856\n",
      "Theta is: 1.2096791754147889\n",
      "Theta is: 1.0606361398407589\n",
      "Theta is: 1.1647886407619492\n",
      "Theta is: 1.3799384266777581\n",
      "Theta is: 1.1105262099515554\n",
      "Theta is: 1.0656940120384382\n",
      "Theta is: 1.240890806115392\n",
      "Theta is: 1.2473430927303444\n",
      "Theta is: 1.2000486556881278\n",
      "Theta is: 1.2134757873889315\n",
      "Theta is: 1.1240003516442267\n",
      "Theta is: 1.1127096034805748\n",
      "Theta is: 0.9985027002844692\n",
      "Theta is: 0.9832376298995229\n",
      "Theta is: 1.0613037174908093\n",
      "Theta is: 1.1699563698097306\n",
      "Theta is: 1.33447849642215\n",
      "Theta is: 1.0572135267545144\n",
      "Theta is: 1.3278904582365676\n",
      "Theta is: 1.1689063239898985\n",
      "Theta is: 1.2043005934613342\n",
      "Theta is: 1.1270579713180982\n",
      "Theta is: 1.1163755247539986\n",
      "Theta is: 1.3163104608191825\n",
      "Theta is: 1.2611014396717797\n",
      "Theta is: 1.3782465758819378\n",
      "Theta is: 1.2394542427483262\n",
      "Theta is: 1.272622380672498\n",
      "Theta is: 1.459190509914282\n",
      "Theta is: 1.2052346531795926\n",
      "Theta is: 1.2713536136965315\n",
      "Theta is: 1.0618239931389073\n",
      "Theta is: 1.3327681810285592\n",
      "Theta is: 1.0492865056424474\n",
      "Theta is: 1.063379194031816\n",
      "Theta is: 1.129577223297156\n",
      "Theta is: 0.8910174721310115\n",
      "Theta is: 1.1652233847302271\n",
      "Theta is: 1.0843285762152308\n",
      "Theta is: 1.4083870089106922\n",
      "Theta is: 1.0584039277571045\n",
      "Theta is: 1.0089035643614415\n",
      "Theta is: 1.0884940491186699\n",
      "Theta is: 1.5677842151369492\n",
      "Theta is: 1.2295175637476363\n",
      "Theta is: 1.2678761512041923\n",
      "Theta is: 1.110512368487082\n",
      "Theta is: 1.0205046132897688\n",
      "Theta is: 1.0738518730992352\n",
      "Theta is: 1.1139344069197032\n",
      "Theta is: 1.103676007747546\n",
      "Theta is: 1.1319969049031595\n",
      "Theta is: 1.0387596407199364\n",
      "Theta is: 1.070719562923711\n",
      "Theta is: 0.7626175281596168\n",
      "Theta is: 1.0830569332350857\n",
      "Theta is: 1.3301287624940643\n",
      "Theta is: 1.122464962614147\n",
      "Theta is: 1.3761324864396953\n",
      "Theta is: 1.1335158950240543\n",
      "Theta is: 1.4525190201788838\n",
      "Theta is: 1.3036659654944163\n",
      "Theta is: 1.6344021500492478\n",
      "Theta is: 1.1293557304631088\n",
      "Theta is: 1.1425283896629614\n",
      "Theta is: 1.3228457973870416\n",
      "Theta is: 1.2048032971593756\n",
      "Theta is: 1.1271135151094276\n",
      "Theta is: 1.0763223823379258\n",
      "Theta is: 1.4915113950163295\n",
      "Theta is: 1.3225934929326806\n",
      "Theta is: 1.1091678586400555\n",
      "Theta is: 1.0699388972651094\n",
      "Theta is: 1.036239395514723\n",
      "Theta is: 1.0022041887304765\n",
      "Theta is: 1.2499650180299604\n",
      "Theta is: 1.3049042669526136\n",
      "Theta is: 1.1390639384383623\n",
      "Theta is: 1.098445682420316\n",
      "Theta is: 1.3648686285547167\n",
      "Theta is: 1.1400351386773935\n",
      "Theta is: 1.1192912662570869\n",
      "Theta is: 1.5279863540380276\n",
      "Theta is: 1.1541507980150927\n",
      "Theta is: 1.232741438345808\n",
      "Theta is: 1.3043539034765173\n",
      "Theta is: 1.40401496709881\n",
      "Theta is: 1.0378307209336706\n",
      "Theta is: 1.2369908438409547\n",
      "Theta is: 0.9242666273682911\n",
      "Theta is: 0.8655746028870889\n",
      "Theta is: 1.144666990839636\n",
      "Theta is: 1.1392942170007432\n",
      "Theta is: 1.414546453163528\n",
      "Theta is: 1.0403987605628056\n",
      "Theta is: 1.2139072966980677\n",
      "Theta is: 1.0544163906355577\n",
      "Theta is: 1.1539330993986654\n",
      "Theta is: 1.0970041080414725\n",
      "Theta is: 1.2713991977824732\n",
      "Theta is: 0.9495504480639172\n",
      "Theta is: 1.2894991681548373\n",
      "Theta is: 0.9224931889526965\n",
      "Theta is: 1.074859628137991\n",
      "Theta is: 1.154197924162016\n",
      "Theta is: 1.3279782395586113\n",
      "Theta is: 1.2028593718566796\n",
      "Theta is: 1.3836099191162698\n",
      "Theta is: 1.064677717854914\n",
      "Theta is: 1.014306279508844\n",
      "Theta is: 0.9997877192011381\n",
      "Theta is: 1.1130962641585354\n",
      "Theta is: 1.047918578729013\n",
      "Theta is: 1.2386316887331235\n",
      "Theta is: 1.0655842284061894\n",
      "Theta is: 1.430621473095613\n",
      "Theta is: 1.1070647924969268\n",
      "Theta is: 1.0643183780851388\n",
      "Theta is: 1.0742092992831895\n",
      "Theta is: 1.7295475043621134\n",
      "Theta is: 1.3929212520767844\n",
      "Theta is: 1.071876147963829\n",
      "Theta is: 1.0687388320453652\n",
      "Theta is: 1.0101969534089057\n",
      "Theta is: 1.1190200984461554\n",
      "Theta is: 1.2183500443412023\n",
      "Theta is: 0.9912705069652399\n",
      "Theta is: 1.2175721907889328\n",
      "Theta is: 1.18764435348515\n",
      "Theta is: 1.109131032175775\n",
      "Theta is: 1.2349020244877005\n",
      "Theta is: 1.2491903809989366\n",
      "Theta is: 1.0806136447314205\n",
      "Theta is: 0.9963065253021602\n",
      "Theta is: 1.2091945291265667\n",
      "Theta is: 1.0786930973112876\n",
      "Theta is: 1.3690950490541298\n",
      "Theta is: 1.0617223119141206\n",
      "Theta is: 1.1859034956213286\n",
      "Theta is: 1.060582447618838\n",
      "Theta is: 1.41842759625399\n",
      "Theta is: 1.2928860674737004\n",
      "Theta is: 1.2154474775700994\n",
      "Theta is: 1.240141976263366\n",
      "Theta is: 1.3308933920976984\n",
      "Theta is: 1.3709051863132633\n",
      "Theta is: 1.1935559679154857\n",
      "Theta is: 1.5151240894114932\n",
      "Theta is: 1.23186704956279\n",
      "Theta is: 1.286552985988303\n",
      "Theta is: 1.3874386886755308\n",
      "Theta is: 1.4458522801601914\n",
      "Theta is: 1.047972489096365\n",
      "Theta is: 1.2212750128514982\n",
      "Theta is: 1.3673419869068908\n",
      "Theta is: 1.2139656919039175\n",
      "Theta is: 1.0391084205122734\n",
      "Theta is: 1.016994640234957\n",
      "Theta is: 1.4086014666648279\n",
      "Theta is: 1.5028051236846107\n",
      "Theta is: 1.200866369974658\n",
      "Theta is: 1.0852131201281388\n",
      "Theta is: 0.9069778672677105\n",
      "Theta is: 1.1439104738212285\n",
      "Theta is: 1.694838707851249\n",
      "Theta is: 1.298629720482598\n",
      "Theta is: 1.569775773786237\n",
      "Theta is: 1.0848729049717722\n",
      "Theta is: 1.113292404528019\n",
      "Theta is: 1.3195144040266844\n",
      "Theta is: 1.417814035302144\n",
      "Theta is: 1.0037542305306635\n",
      "Theta is: 1.2407351689271122\n",
      "Theta is: 1.1073659199112273\n",
      "Theta is: 1.195068343092665\n",
      "Theta is: 1.8577780488805542\n",
      "Theta is: 1.0578658657452393\n",
      "Theta is: 0.9783365149817299\n",
      "Theta is: 1.1621237003509177\n",
      "Theta is: 1.3019996055849057\n",
      "Theta is: 1.1908018230411161\n",
      "Theta is: 1.1846640554507022\n",
      "Theta is: 1.1154084593047648\n",
      "Theta is: 1.02547171559488\n",
      "Theta is: 1.379498856677332\n",
      "Theta is: 1.131376873653414\n",
      "Theta is: 0.9117641125667137\n",
      "Theta is: 0.8313391118496628\n",
      "Theta is: 1.3143074427169386\n",
      "Theta is: 1.3399786016990025\n",
      "Theta is: 0.9457566532117874\n",
      "Theta is: 1.0897493348670666\n",
      "Theta is: 1.2559430567277088\n",
      "Theta is: 1.6087201267820779\n",
      "Theta is: 1.0944726366043351\n",
      "Theta is: 1.0321862459776663\n",
      "Theta is: 1.3118558761397958\n",
      "Theta is: 1.1115497863491637\n",
      "Theta is: 1.209165853979163\n",
      "Theta is: 1.156212000291701\n",
      "Theta is: 1.3703346512388304\n",
      "Theta is: 1.4177542331268753\n",
      "Theta is: 0.9834701121169802\n",
      "Theta is: 1.0257744425933544\n",
      "Theta is: 1.3690971657185955\n",
      "Theta is: 1.1062030503828297\n",
      "Theta is: 1.0816967285229409\n",
      "Theta is: 1.2760849215667915\n",
      "Theta is: 1.2811122348080037\n",
      "Theta is: 1.1483742995449246\n",
      "Theta is: 1.274245385770409\n",
      "Theta is: 1.004216805067347\n",
      "Theta is: 1.210514911687814\n",
      "Theta is: 1.1523909500404395\n",
      "Theta is: 1.0676347573883225\n",
      "Theta is: 1.150046439044042\n",
      "Theta is: 1.0197842566424522\n",
      "Theta is: 1.4124090639542226\n",
      "Theta is: 1.2309727916756479\n",
      "Theta is: 1.2067600283416184\n",
      "Theta is: 1.1248974402893523\n",
      "Theta is: 1.2891239988531884\n",
      "Theta is: 1.1714438940735328\n",
      "Theta is: 0.9586403994372824\n",
      "Theta is: 1.2252988572386354\n",
      "Theta is: 1.05966726710851\n",
      "Theta is: 0.9354036388863346\n",
      "Theta is: 1.1979174264669676\n",
      "Theta is: 1.5780286029506227\n",
      "Theta is: 1.2734605304845132\n",
      "Theta is: 1.211484695720856\n",
      "Theta is: 1.5056000836606755\n",
      "Theta is: 1.0514257625200378\n",
      "Theta is: 1.2517155300111922\n",
      "Theta is: 1.08038993776183\n",
      "Theta is: 1.1492371590494561\n",
      "Theta is: 2.0379585363123076\n",
      "Theta is: 1.7489762023241855\n",
      "Theta is: 1.7397383271346252\n",
      "Theta is: 1.7446175860620199\n",
      "Theta is: 1.0623972805639395\n",
      "Theta is: 1.059244457844679\n",
      "Theta is: 1.176581444369459\n",
      "Theta is: 1.0141747388013032\n",
      "Theta is: 1.5661414319257314\n",
      "Theta is: 0.9058189726289081\n",
      "Theta is: 1.2367624660326433\n",
      "Theta is: 1.5544252563853798\n",
      "Theta is: 1.382638579235393\n",
      "Theta is: 1.1202680117103736\n",
      "Theta is: 1.153833113965596\n",
      "Theta is: 1.122093258363561\n",
      "Theta is: 0.9832646739960803\n",
      "Theta is: 1.3584888842782858\n",
      "Theta is: 1.2003673212627075\n",
      "Theta is: 1.0138708213261973\n",
      "Theta is: 1.1392074114040462\n",
      "Theta is: 0.7894760757157125\n",
      "Theta is: 1.1349928586360487\n",
      "Theta is: 1.1126662066873756\n",
      "Theta is: 1.1437855883664354\n",
      "Theta is: 1.3736045721999257\n",
      "Theta is: 1.06027941671192\n",
      "Theta is: 1.283584178913626\n",
      "Theta is: 1.1300818639724366\n",
      "Theta is: 1.2243655777064393\n",
      "Theta is: 1.8565167169509431\n",
      "Theta is: 1.02108768299946\n",
      "Theta is: 1.3691768603054915\n",
      "Theta is: 1.1382528976211372\n",
      "Theta is: 1.2126300907574472\n",
      "Theta is: 1.0861837386163664\n",
      "Theta is: 1.393417773220549\n",
      "Theta is: 1.0409006578037316\n",
      "Theta is: 1.2071506620206909\n",
      "Theta is: 1.1249212192931801\n",
      "Theta is: 1.2169481863139033\n",
      "Theta is: 1.465621222727767\n",
      "Theta is: 1.225674668539955\n",
      "Theta is: 1.1120836898923205\n",
      "Theta is: 1.4260585948046274\n",
      "Theta is: 1.4618813038519136\n",
      "Theta is: 1.2162315267555721\n",
      "Theta is: 1.2214324519124937\n",
      "Theta is: 1.1936494948499157\n",
      "Theta is: 1.0257413184154245\n",
      "Theta is: 1.0959702146375505\n",
      "Theta is: 1.3236015421169502\n",
      "Theta is: 1.501395975751525\n",
      "Theta is: 1.1326159954914894\n",
      "Theta is: 1.045324657183042\n",
      "Theta is: 1.309503693938891\n"
     ]
    }
   ],
   "source": [
    "save_path = \"C:/Users/repin/Desktop/GitHub/TestLab/development/graphs-cuped\"\n",
    "n_tests = 500\n",
    "n_test_units = 7\n",
    "skip = 0\n",
    "saving_result = dict()\n",
    "\n",
    "for i in tqdm(range(n_tests)):\n",
    "    \n",
    "    test_params[\"test_units\"] = list(np.random.choice(unit_list, n_test_units, replace=False))\n",
    "    test_params[\"start_of_test\"] = np.random.choice(date_list_str, 1, replace=False)[0]\n",
    "    # instance\n",
    "    exp = tf(params_dict=test_params)\n",
    "    exp.create_periods(verbose=False)\n",
    "    # data\n",
    "    knn_data_clean = df_clean[\n",
    "        (df_clean['dt'] >= exp.start_of_knn) & (df_clean['dt'] < exp.start_of_validation)]\n",
    "    # knn\n",
    "    knn_pre_exp_clean_scld = exp.get_scaled_data(knn_data_clean)\n",
    "    knn_vectors, ids_dict = exp.get_vectors(knn_pre_exp_clean_scld)\n",
    "    all_neighbours_dtw = exp.get_all_neighbors_dtw(knn_vectors)\n",
    "    all_groups_dtw = exp.get_test_control_groups(all_neighbours_dtw)\n",
    "    all_units = reduce(operator.iconcat, all_groups_dtw.values(), [])\n",
    "    \n",
    "    # validation\n",
    "    validation_data = df_clean[\n",
    "        (df_clean['dt'] >= exp.start_of_validation)\n",
    "        & (df_clean['dt'] < exp.start_of_test)\n",
    "        & (df_clean[\"CityName\"].isin(all_units))\n",
    "    ]\n",
    "    # cuped\n",
    "    pilot_df_sort, pre_pilot_df_sort = exp.sort_merge_for_cuped(\n",
    "        knn_data_clean,\n",
    "        validation_data,\n",
    "        all_groups_dtw,\n",
    "        is_validation=True\n",
    "    )\n",
    "    cuped_df = exp.calculate_cuped_metric(\n",
    "        pre_pilot_df_sort,\n",
    "        pilot_df_sort\n",
    "    )\n",
    "\n",
    "    try:\n",
    "        return_dict = exp.bootstrap(\n",
    "            cuped_df,\n",
    "            np.mean,\n",
    "            0,\n",
    "            is_cuped=True,\n",
    "            directory_path=save_path,\n",
    "            test_id=f\"test{i}\"\n",
    "        )\n",
    "    except AssertionError:\n",
    "        skip =+ 1\n",
    "        continue\n",
    "    return_dict[\"test_units\"] = test_params[\"test_units\"]\n",
    "    return_dict[\"control_units\"] = all_groups_dtw[\"control_units\"]\n",
    "    return_dict[\"start_of_test\"] = test_params[\"start_of_test\"]\n",
    "    saving_result[i] = return_dict"
   ]
  },
  {
   "cell_type": "code",
   "execution_count": 30,
   "metadata": {},
   "outputs": [],
   "source": [
    "saving_result_1 = saving_result"
   ]
  },
  {
   "cell_type": "code",
   "execution_count": null,
   "metadata": {},
   "outputs": [],
   "source": []
  },
  {
   "cell_type": "code",
   "execution_count": null,
   "metadata": {},
   "outputs": [],
   "source": [
    "#saving_result_2\n"
   ]
  },
  {
   "cell_type": "code",
   "execution_count": 32,
   "metadata": {},
   "outputs": [
    {
     "data": {
      "text/plain": [
       "421"
      ]
     },
     "execution_count": 32,
     "metadata": {},
     "output_type": "execute_result"
    }
   ],
   "source": [
    "len(saving_result)"
   ]
  },
  {
   "cell_type": "code",
   "execution_count": 33,
   "metadata": {},
   "outputs": [
    {
     "data": {
      "text/plain": [
       "0.023752969121140142"
      ]
     },
     "execution_count": 33,
     "metadata": {},
     "output_type": "execute_result"
    }
   ],
   "source": [
    "np.mean([i[\"aa_test\"] for i in saving_result.values()])"
   ]
  },
  {
   "cell_type": "code",
   "execution_count": 34,
   "metadata": {},
   "outputs": [
    {
     "data": {
      "text/plain": [
       "0.5792902612826603"
      ]
     },
     "execution_count": 34,
     "metadata": {},
     "output_type": "execute_result"
    }
   ],
   "source": [
    "np.mean([i[\"p_value_aa_boot\"] for i in saving_result.values()])"
   ]
  },
  {
   "cell_type": "code",
   "execution_count": 35,
   "metadata": {},
   "outputs": [
    {
     "data": {
      "text/plain": [
       "0.0022"
      ]
     },
     "execution_count": 35,
     "metadata": {},
     "output_type": "execute_result"
    }
   ],
   "source": [
    "np.min([i[\"p_value_aa_boot\"] for i in saving_result.values()])"
   ]
  },
  {
   "cell_type": "code",
   "execution_count": 36,
   "metadata": {},
   "outputs": [
    {
     "data": {
      "text/plain": [
       "0.0022"
      ]
     },
     "execution_count": 36,
     "metadata": {},
     "output_type": "execute_result"
    }
   ],
   "source": [
    "np.quantile([i[\"p_value_aa_boot\"] for i in saving_result.values()], 0.0)"
   ]
  },
  {
   "cell_type": "code",
   "execution_count": 37,
   "metadata": {},
   "outputs": [
    {
     "data": {
      "image/png": "[encoded data removed]",
      "text/plain": [
       "<Figure size 1080x432 with 1 Axes>"
      ]
     },
     "metadata": {
      "needs_background": "light"
     },
     "output_type": "display_data"
    }
   ],
   "source": [
    "# a/b не смотрим\n",
    "viz.plot_pvalue_distribution(\n",
    "    np.array([i[\"p_value_aa_boot\"] for i in saving_result.values()]),\n",
    "    np.array([i[\"p_value_ab_boot\"] for i in saving_result.values()]) - 0.2\n",
    ")"
   ]
  },
  {
   "cell_type": "code",
   "execution_count": 38,
   "metadata": {},
   "outputs": [],
   "source": [
    "import seaborn as sns\n",
    "from typing import Union, List\n",
    "import matplotlib.pyplot as plt\n",
    "def plot_pvalue_ecdf(pvalues: Union[List[float], np.array], title: str = None) -> None:\n",
    "    \"\"\"\n",
    "    Визуализация распределения p-value гистограммой + cdf\n",
    "\n",
    "    args:\n",
    "        pvalues - массив значений p-value\n",
    "        title - заголовок рисунка\n",
    "    return:\n",
    "        None\n",
    "    \"\"\"\n",
    "    fig, (ax1, ax2) = plt.subplots(1, 2, figsize=(12, 4))\n",
    "    if title:\n",
    "        plt.suptitle(title)\n",
    "    sns.histplot(pvalues, ax=ax1, bins=50, stat='density')\n",
    "    ax1.plot([0, 1], [1, 1], 'k--')\n",
    "    ax1.set_xlabel('p-value')\n",
    "    ax1.grid(alpha=0.3)\n",
    "    sns.ecdfplot(pvalues, ax=ax2)\n",
    "    ax2.set_ylabel('Probability')\n",
    "    ax2.set_xlabel('p-value')\n",
    "    ax2.grid(alpha=0.3)"
   ]
  },
  {
   "cell_type": "code",
   "execution_count": 31,
   "metadata": {},
   "outputs": [
    {
     "data": {
      "text/plain": [
       "array([6.697e-01, 2.038e-01, 1.351e-01, 3.129e-01, 9.141e-01, 3.248e-01,\n",
       "       9.982e-01, 2.100e-03, 1.408e-01, 1.248e-01, 4.978e-01, 3.000e-04,\n",
       "       9.515e-01, 6.247e-01, 3.815e-01, 5.634e-01, 7.727e-01, 5.055e-01,\n",
       "       1.921e-01, 8.987e-01, 4.232e-01, 3.172e-01, 3.893e-01, 7.729e-01,\n",
       "       2.000e-01, 5.663e-01, 2.808e-01, 3.210e-02, 8.027e-01, 8.852e-01,\n",
       "       9.706e-01, 8.406e-01, 2.545e-01, 4.911e-01, 4.364e-01, 8.331e-01,\n",
       "       3.966e-01, 8.870e-01, 7.790e-02, 9.103e-01, 8.116e-01, 7.334e-01,\n",
       "       8.292e-01, 9.571e-01, 2.458e-01, 7.032e-01, 9.484e-01, 3.227e-01,\n",
       "       8.509e-01, 8.402e-01, 7.193e-01, 2.994e-01, 7.850e-02, 6.682e-01,\n",
       "       9.991e-01, 2.281e-01, 6.648e-01, 7.330e-01, 6.557e-01, 4.265e-01,\n",
       "       5.105e-01, 9.970e-01, 1.331e-01, 9.770e-01, 5.633e-01, 1.322e-01,\n",
       "       1.926e-01, 4.890e-02, 5.965e-01, 7.230e-02, 7.851e-01, 4.568e-01,\n",
       "       1.727e-01, 3.243e-01, 3.329e-01, 9.405e-01, 3.047e-01, 6.970e-01,\n",
       "       8.818e-01, 1.970e-02, 4.646e-01, 9.398e-01, 4.477e-01, 2.064e-01,\n",
       "       7.666e-01, 4.455e-01, 2.084e-01, 5.157e-01, 9.434e-01, 4.496e-01,\n",
       "       6.684e-01, 4.430e-02, 2.230e-01, 5.481e-01, 6.275e-01, 8.994e-01,\n",
       "       3.125e-01, 9.467e-01, 5.677e-01, 8.572e-01, 2.786e-01, 7.496e-01,\n",
       "       3.310e-01, 4.142e-01, 6.110e-01, 9.860e-02, 3.303e-01, 7.369e-01,\n",
       "       4.591e-01, 6.945e-01, 7.296e-01, 4.714e-01, 2.930e-02, 4.777e-01,\n",
       "       4.042e-01, 9.198e-01, 7.277e-01, 5.466e-01, 8.120e-01, 2.025e-01,\n",
       "       5.721e-01, 5.992e-01, 1.342e-01, 7.252e-01, 8.963e-01, 2.201e-01,\n",
       "       1.160e-02, 7.403e-01, 1.444e-01, 7.679e-01, 4.686e-01, 3.251e-01,\n",
       "       8.346e-01, 9.490e-01, 2.456e-01, 8.040e-02, 2.619e-01, 9.075e-01,\n",
       "       3.457e-01, 6.160e-02, 4.892e-01, 7.197e-01, 3.326e-01, 3.053e-01,\n",
       "       7.435e-01, 9.683e-01, 5.170e-02, 9.925e-01, 4.980e-01, 5.508e-01,\n",
       "       5.188e-01, 9.235e-01, 8.067e-01, 2.365e-01, 8.134e-01, 3.785e-01,\n",
       "       9.792e-01, 7.195e-01, 5.059e-01, 4.731e-01, 7.760e-01, 4.665e-01,\n",
       "       3.999e-01, 9.357e-01, 2.516e-01, 6.257e-01, 9.520e-01, 1.850e-01,\n",
       "       8.092e-01, 3.189e-01, 7.029e-01, 5.007e-01, 1.910e-02, 6.839e-01,\n",
       "       7.650e-01, 6.347e-01, 7.790e-01, 8.007e-01, 8.837e-01, 8.311e-01,\n",
       "       8.863e-01, 1.767e-01, 8.766e-01, 4.193e-01, 9.182e-01, 3.910e-02,\n",
       "       7.691e-01, 4.995e-01, 4.477e-01, 2.610e-02, 3.154e-01, 6.588e-01,\n",
       "       3.898e-01, 9.281e-01, 4.944e-01, 4.832e-01, 1.915e-01, 3.120e-01,\n",
       "       4.439e-01, 5.286e-01, 5.868e-01, 3.271e-01, 8.232e-01, 4.536e-01,\n",
       "       9.857e-01, 1.040e-01, 2.429e-01, 6.285e-01, 4.701e-01, 5.630e-01,\n",
       "       7.524e-01, 3.950e-01, 9.259e-01, 8.386e-01, 5.660e-01, 8.538e-01,\n",
       "       9.528e-01, 2.790e-02, 7.172e-01, 6.000e-02, 1.222e-01, 7.319e-01,\n",
       "       6.540e-02, 1.020e-01, 9.430e-02, 2.320e-01, 4.146e-01, 7.129e-01,\n",
       "       3.915e-01, 3.561e-01, 5.580e-02, 3.658e-01, 7.658e-01, 6.727e-01,\n",
       "       7.991e-01, 3.563e-01, 9.351e-01, 6.000e-03, 9.754e-01, 8.321e-01,\n",
       "       7.802e-01, 9.945e-01, 2.672e-01, 3.943e-01, 5.018e-01, 6.546e-01,\n",
       "       2.983e-01, 4.387e-01, 3.252e-01, 8.731e-01, 8.291e-01, 3.432e-01,\n",
       "       3.418e-01, 8.322e-01, 9.803e-01, 4.220e-01, 7.620e-01, 9.500e-01,\n",
       "       8.426e-01, 1.599e-01, 4.712e-01, 8.351e-01, 5.355e-01, 9.667e-01,\n",
       "       8.864e-01, 5.371e-01, 6.658e-01, 8.139e-01, 9.938e-01, 5.148e-01,\n",
       "       8.323e-01, 4.853e-01, 1.829e-01, 3.101e-01, 9.127e-01, 9.719e-01,\n",
       "       5.126e-01, 2.678e-01, 7.415e-01, 8.323e-01, 6.995e-01, 9.169e-01,\n",
       "       8.271e-01, 6.314e-01, 9.220e-02, 1.110e-02, 1.875e-01, 2.122e-01,\n",
       "       1.950e-01, 4.349e-01, 5.518e-01, 9.534e-01, 6.800e-01, 9.282e-01,\n",
       "       1.889e-01, 2.360e-02, 6.639e-01, 5.590e-02, 5.150e-02, 9.829e-01,\n",
       "       8.179e-01, 4.257e-01, 5.153e-01, 5.131e-01, 6.290e-01, 7.996e-01,\n",
       "       4.590e-01, 9.552e-01, 6.841e-01, 8.056e-01, 9.079e-01, 7.171e-01,\n",
       "       1.475e-01, 2.778e-01, 1.657e-01, 6.746e-01, 6.514e-01, 6.567e-01,\n",
       "       7.505e-01, 4.418e-01, 3.837e-01, 5.380e-01, 7.185e-01, 9.520e-02,\n",
       "       2.303e-01, 9.628e-01, 3.325e-01, 2.619e-01, 7.362e-01, 1.779e-01,\n",
       "       7.225e-01, 2.080e-01, 5.300e-03, 5.935e-01, 4.028e-01, 5.817e-01,\n",
       "       1.253e-01, 5.780e-01, 6.412e-01, 9.449e-01, 4.908e-01, 2.391e-01,\n",
       "       1.907e-01, 9.674e-01, 1.382e-01, 4.585e-01, 4.088e-01, 9.259e-01,\n",
       "       1.351e-01, 7.750e-01, 4.564e-01, 6.070e-02, 6.930e-02, 5.754e-01,\n",
       "       3.349e-01, 9.193e-01, 9.436e-01, 1.226e-01, 9.421e-01, 6.422e-01,\n",
       "       7.213e-01, 3.403e-01, 3.957e-01, 1.094e-01, 8.011e-01, 2.973e-01,\n",
       "       2.612e-01, 2.884e-01, 2.879e-01, 5.207e-01, 5.544e-01, 3.469e-01,\n",
       "       1.954e-01, 2.286e-01, 2.585e-01, 4.131e-01, 6.361e-01, 8.710e-02,\n",
       "       8.169e-01, 1.378e-01, 5.192e-01, 1.100e-02, 8.990e-01, 7.945e-01,\n",
       "       7.909e-01, 7.487e-01, 4.942e-01, 4.383e-01, 4.552e-01, 6.101e-01,\n",
       "       7.970e-01, 7.163e-01, 1.858e-01, 7.580e-01, 3.299e-01, 4.634e-01,\n",
       "       4.758e-01, 7.262e-01, 8.476e-01, 5.936e-01, 8.290e-01, 5.962e-01,\n",
       "       7.838e-01, 8.003e-01, 9.210e-01, 2.869e-01, 6.960e-01, 5.026e-01,\n",
       "       2.108e-01, 4.224e-01, 7.020e-01, 4.072e-01, 6.537e-01, 5.215e-01,\n",
       "       5.377e-01, 3.187e-01, 8.648e-01, 1.762e-01, 1.644e-01, 3.943e-01,\n",
       "       5.636e-01, 3.793e-01, 4.983e-01, 7.700e-03, 9.239e-01, 8.034e-01,\n",
       "       3.238e-01, 4.389e-01, 4.603e-01, 3.498e-01, 8.570e-01, 4.506e-01,\n",
       "       1.273e-01, 6.286e-01, 7.846e-01, 8.886e-01, 8.926e-01, 7.759e-01,\n",
       "       2.880e-01, 5.927e-01, 4.403e-01, 9.236e-01, 1.731e-01, 3.009e-01,\n",
       "       4.230e-01, 8.890e-01, 2.145e-01, 3.424e-01, 9.203e-01, 2.336e-01,\n",
       "       7.958e-01, 9.661e-01, 5.555e-01, 9.224e-01, 6.191e-01, 8.536e-01,\n",
       "       7.989e-01, 6.914e-01, 3.232e-01, 1.805e-01, 6.432e-01, 7.331e-01,\n",
       "       8.904e-01, 4.744e-01, 7.859e-01, 5.372e-01, 9.729e-01, 3.442e-01,\n",
       "       8.600e-02, 4.420e-01, 6.496e-01, 6.844e-01, 1.110e-01, 8.496e-01,\n",
       "       2.447e-01, 5.390e-01, 2.530e-01, 6.661e-01, 2.893e-01, 6.748e-01,\n",
       "       1.751e-01, 1.897e-01, 6.607e-01, 4.066e-01, 9.734e-01, 8.663e-01,\n",
       "       6.135e-01, 6.934e-01, 4.862e-01, 9.280e-01, 2.443e-01, 9.954e-01,\n",
       "       4.839e-01, 7.054e-01, 8.707e-01, 1.389e-01, 4.536e-01, 5.331e-01,\n",
       "       5.980e-02, 9.944e-01, 9.181e-01, 8.700e-01, 5.444e-01, 6.356e-01,\n",
       "       1.634e-01, 4.463e-01, 8.132e-01, 8.288e-01, 4.953e-01, 8.818e-01,\n",
       "       3.165e-01, 7.945e-01, 6.623e-01, 8.360e-01, 7.014e-01, 5.937e-01,\n",
       "       9.603e-01, 1.990e-01, 9.900e-02, 5.209e-01, 9.930e-01])"
      ]
     },
     "execution_count": 31,
     "metadata": {},
     "output_type": "execute_result"
    }
   ],
   "source": [
    "np.array([i[\"p_value_aa_boot\"] for i in saving_result.values()])"
   ]
  },
  {
   "cell_type": "code",
   "execution_count": 39,
   "metadata": {},
   "outputs": [
    {
     "data": {
      "image/png": "[encoded data removed]",
      "text/plain": [
       "<Figure size 864x288 with 2 Axes>"
      ]
     },
     "metadata": {
      "needs_background": "light"
     },
     "output_type": "display_data"
    }
   ],
   "source": [
    "plot_pvalue_ecdf(np.array([i[\"p_value_aa_boot\"] for i in saving_result.values()]))"
   ]
  },
  {
   "cell_type": "code",
   "execution_count": 45,
   "metadata": {},
   "outputs": [
    {
     "data": {
      "text/plain": [
       "{'aa_test': False,\n",
       " 'ab_test': False,\n",
       " 'pe_aa': 2312.805787478357,\n",
       " 'pe_ab': 2312.805787478357,\n",
       " 'ci_aa': (-8217.675116899136, 12845.680125709378),\n",
       " 'ci_ab': (-8212.770646220957, 12973.347681005122),\n",
       " 'p_value_aa_boot': 0.6697,\n",
       " 'p_value_ab_boot': 0.6587,\n",
       " 'theta': 0.7717576926741215,\n",
       " 'test_units': ['Кемерово',\n",
       "  'Старый Оскол',\n",
       "  'Екатеринбург',\n",
       "  'Рассказовка',\n",
       "  'Иркутск',\n",
       "  'Ухта',\n",
       "  'Курган'],\n",
       " 'control_units': ['Архангельск',\n",
       "  'Красное Село',\n",
       "  'Челябинск',\n",
       "  'Фрязино',\n",
       "  'Нижневартовск',\n",
       "  'Саранск',\n",
       "  'Щелково'],\n",
       " 'start_of_test': '2022-04-01'}"
      ]
     },
     "execution_count": 45,
     "metadata": {},
     "output_type": "execute_result"
    }
   ],
   "source": [
    "saving_result[0]"
   ]
  },
  {
   "cell_type": "code",
   "execution_count": 50,
   "metadata": {},
   "outputs": [],
   "source": [
    "low_theta = {}\n",
    "for key, val in saving_result.items():\n",
    "    if val[\"aa_test\"] == True:\n",
    "        low_theta[key] = val"
   ]
  },
  {
   "cell_type": "code",
   "execution_count": 52,
   "metadata": {},
   "outputs": [
    {
     "data": {
      "text/plain": [
       "19"
      ]
     },
     "execution_count": 52,
     "metadata": {},
     "output_type": "execute_result"
    }
   ],
   "source": [
    "len(low_theta)"
   ]
  }
 ],
 "metadata": {
  "kernelspec": {
   "display_name": "base",
   "language": "python",
   "name": "python3"
  },
  "language_info": {
   "codemirror_mode": {
    "name": "ipython",
    "version": 3
   },
   "file_extension": ".py",
   "mimetype": "text/x-python",
   "name": "python",
   "nbconvert_exporter": "python",
   "pygments_lexer": "ipython3",
   "version": "3.8.3"
  }
 },
 "nbformat": 4,
 "nbformat_minor": 2
}
