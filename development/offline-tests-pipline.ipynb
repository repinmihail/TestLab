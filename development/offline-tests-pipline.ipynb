{
 "cells": [
  {
   "cell_type": "markdown",
   "metadata": {},
   "source": [
    "### HEAD"
   ]
  },
  {
   "cell_type": "code",
   "execution_count": 105,
   "metadata": {},
   "outputs": [],
   "source": [
    "import math\n",
    "import pandas as pd\n",
    "import numpy as np\n",
    "import datetime\n",
    "import seaborn as sns\n",
    "import matplotlib.pyplot as plt\n",
    "import functools\n",
    "import operator\n",
    "\n",
    "from sklearn.preprocessing import StandardScaler, MinMaxScaler\n",
    "from matplotlib import pyplot as plt\n",
    "from tqdm.notebook import tqdm\n",
    "from functools import reduce\n",
    "from scipy import stats\n",
    "from sklearn.decomposition import PCA\n",
    "from sklearn.neighbors import NearestNeighbors\n",
    "from typing import List, Callable, Tuple\n",
    "import warnings\n",
    "warnings.filterwarnings(\"ignore\")"
   ]
  },
  {
   "cell_type": "code",
   "execution_count": 3,
   "metadata": {},
   "outputs": [],
   "source": [
    "path = r\"C:\\Users\\repin\\Desktop\\GitHub\\TestLab\\development\\test-data.csv\"\n",
    "df = pd.read_csv(path)"
   ]
  },
  {
   "cell_type": "code",
   "execution_count": 4,
   "metadata": {},
   "outputs": [],
   "source": [
    "# добавим данные по месяцу и дате в удобном формате\n",
    "df['month'] = df['Date'].apply(lambda x: x[:7])\n",
    "df['dt'] = df['Date'].apply(lambda x: x[:10])"
   ]
  },
  {
   "cell_type": "code",
   "execution_count": 5,
   "metadata": {},
   "outputs": [
    {
     "data": {
      "text/plain": [
       "('2022-02-16', '2022-04-07', '2022-05-19')"
      ]
     },
     "execution_count": 5,
     "metadata": {},
     "output_type": "execute_result"
    }
   ],
   "source": [
    "# введем переменные с датами\n",
    "# пусть предэкспериментальный период будет равен 50 дням (чуть больше теста)\n",
    "end_of_30 = datetime.datetime.strptime('2022-04-07', \"%Y-%m-%d\")\n",
    "start_of_30 = end_of_30 + datetime.timedelta(days=-50)\n",
    "\n",
    "start_dt = start_of_30.strftime(\"%Y-%m-%d\")\n",
    "end_dt = end_of_30.strftime(\"%Y-%m-%d\")\n",
    "end_of_test_dt = '2022-05-19'\n",
    "start_dt, end_dt, end_of_test_dt"
   ]
  },
  {
   "cell_type": "code",
   "execution_count": 6,
   "metadata": {},
   "outputs": [
    {
     "data": {
      "text/plain": [
       "(13140, 14)"
      ]
     },
     "execution_count": 6,
     "metadata": {},
     "output_type": "execute_result"
    }
   ],
   "source": [
    "# данные предэкспериментального периода\n",
    "pre_exp = df[\n",
    "    (df['dt'] >= start_dt)&(df['dt'] < end_dt)\n",
    "    &(df['OrderSource'] == 'web')&(df['Category'] == 'пицца')\n",
    "    ]\n",
    "pre_exp.shape"
   ]
  },
  {
   "cell_type": "code",
   "execution_count": 7,
   "metadata": {},
   "outputs": [],
   "source": [
    "pre_exp = pre_exp[[\"dt\", \"CityName\", \"rto\"]]\n",
    "pre_exp = pre_exp[~pre_exp[\"CityName\"].isin([\"Москва\", \"Санкт-Петербург\"])]"
   ]
  },
  {
   "cell_type": "code",
   "execution_count": 8,
   "metadata": {},
   "outputs": [],
   "source": [
    "pre_exp_pivot = pre_exp.pivot_table(values=\"rto\", columns=\"dt\", index=\"CityName\")"
   ]
  },
  {
   "cell_type": "code",
   "execution_count": 9,
   "metadata": {},
   "outputs": [],
   "source": [
    "cols = list(pre_exp_pivot.columns)\n",
    "\n",
    "wrong_cities = []\n",
    "for i in cols:\n",
    "    one_row = pre_exp_pivot.loc[:, i]\n",
    "    if one_row.isnull().values.any():\n",
    "        all_cities = list(one_row[one_row.isnull().values].index)\n",
    "        for i in all_cities:\n",
    "            if i not in wrong_cities:\n",
    "                wrong_cities.append(i)"
   ]
  },
  {
   "cell_type": "code",
   "execution_count": 10,
   "metadata": {},
   "outputs": [],
   "source": [
    "# оставляем города, включая мск и спб, кроме тех, где есть пропуски в данных\n",
    "test_wo_denied_ = [i for i in set(pre_exp[\"CityName\"]) if i not in wrong_cities]"
   ]
  },
  {
   "cell_type": "code",
   "execution_count": 11,
   "metadata": {},
   "outputs": [
    {
     "data": {
      "text/plain": [
       "228"
      ]
     },
     "execution_count": 11,
     "metadata": {},
     "output_type": "execute_result"
    }
   ],
   "source": [
    "len(test_wo_denied_)"
   ]
  },
  {
   "cell_type": "code",
   "execution_count": 58,
   "metadata": {},
   "outputs": [],
   "source": [
    "knn_pre_exp = pre_exp[[\"dt\", \"CityName\", \"rto\"]]\n",
    "knn_pre_exp_clean = knn_pre_exp[knn_pre_exp[\"CityName\"].isin(test_wo_denied_)]"
   ]
  },
  {
   "cell_type": "code",
   "execution_count": 59,
   "metadata": {},
   "outputs": [
    {
     "data": {
      "text/html": [
       "<div>\n",
       "<style scoped>\n",
       "    .dataframe tbody tr th:only-of-type {\n",
       "        vertical-align: middle;\n",
       "    }\n",
       "\n",
       "    .dataframe tbody tr th {\n",
       "        vertical-align: top;\n",
       "    }\n",
       "\n",
       "    .dataframe thead th {\n",
       "        text-align: right;\n",
       "    }\n",
       "</style>\n",
       "<table border=\"1\" class=\"dataframe\">\n",
       "  <thead>\n",
       "    <tr style=\"text-align: right;\">\n",
       "      <th></th>\n",
       "      <th>dt</th>\n",
       "      <th>CityName</th>\n",
       "      <th>rto</th>\n",
       "    </tr>\n",
       "  </thead>\n",
       "  <tbody>\n",
       "    <tr>\n",
       "      <th>139295</th>\n",
       "      <td>2022-02-16</td>\n",
       "      <td>Абакан</td>\n",
       "      <td>19586.21</td>\n",
       "    </tr>\n",
       "    <tr>\n",
       "      <th>139307</th>\n",
       "      <td>2022-02-16</td>\n",
       "      <td>Абинск</td>\n",
       "      <td>7909.93</td>\n",
       "    </tr>\n",
       "    <tr>\n",
       "      <th>139319</th>\n",
       "      <td>2022-02-16</td>\n",
       "      <td>Азов</td>\n",
       "      <td>2019.43</td>\n",
       "    </tr>\n",
       "    <tr>\n",
       "      <th>139329</th>\n",
       "      <td>2022-02-16</td>\n",
       "      <td>Аксай Россия</td>\n",
       "      <td>2657.27</td>\n",
       "    </tr>\n",
       "    <tr>\n",
       "      <th>139340</th>\n",
       "      <td>2022-02-16</td>\n",
       "      <td>Александров</td>\n",
       "      <td>7047.18</td>\n",
       "    </tr>\n",
       "  </tbody>\n",
       "</table>\n",
       "</div>"
      ],
      "text/plain": [
       "                dt      CityName       rto\n",
       "139295  2022-02-16        Абакан  19586.21\n",
       "139307  2022-02-16        Абинск   7909.93\n",
       "139319  2022-02-16          Азов   2019.43\n",
       "139329  2022-02-16  Аксай Россия   2657.27\n",
       "139340  2022-02-16   Александров   7047.18"
      ]
     },
     "execution_count": 59,
     "metadata": {},
     "output_type": "execute_result"
    }
   ],
   "source": [
    "knn_pre_exp_clean.head()"
   ]
  },
  {
   "cell_type": "markdown",
   "metadata": {},
   "source": [
    "### FUNCs"
   ]
  },
  {
   "cell_type": "code",
   "execution_count": 104,
   "metadata": {},
   "outputs": [],
   "source": [
    "def get_scaled_data(data: pd.DataFrame, metric_name: str) -> pd.DataFrame:\n",
    "    \"\"\"\n",
    "    Метод для масштабирования данных. Используется StandardScaler\n",
    "\n",
    "    Args:\n",
    "        data (pd.DataFrame): датафрейм с датами, юнитами и метрикой\n",
    "        metric_name (str): наменование столбца с метрикой\n",
    "\n",
    "    Raises:\n",
    "        KeyError: В случае, если наименование столбца с метрикой указано\n",
    "        неверно, бросается исключение\n",
    "\n",
    "    Returns:\n",
    "        pd.DataFrame: исходный датафрейм + масштабированная метрика\n",
    "    \"\"\"\n",
    "    try:\n",
    "        scaled_metric = StandardScaler().fit_transform(data[[metric_name]])\n",
    "    except KeyError:\n",
    "        raise KeyError(f\"Frame data does not contain the field with name {metric_name}\")\n",
    "    data[f\"scaled_{metric_name}\"] = scaled_metric\n",
    "    return data"
   ]
  },
  {
   "cell_type": "code",
   "execution_count": 61,
   "metadata": {},
   "outputs": [],
   "source": [
    "knn_pre_exp_clean_scld = get_scaled_data(knn_pre_exp_clean, \"rto\")"
   ]
  },
  {
   "cell_type": "code",
   "execution_count": 62,
   "metadata": {},
   "outputs": [
    {
     "data": {
      "text/html": [
       "<div>\n",
       "<style scoped>\n",
       "    .dataframe tbody tr th:only-of-type {\n",
       "        vertical-align: middle;\n",
       "    }\n",
       "\n",
       "    .dataframe tbody tr th {\n",
       "        vertical-align: top;\n",
       "    }\n",
       "\n",
       "    .dataframe thead th {\n",
       "        text-align: right;\n",
       "    }\n",
       "</style>\n",
       "<table border=\"1\" class=\"dataframe\">\n",
       "  <thead>\n",
       "    <tr style=\"text-align: right;\">\n",
       "      <th></th>\n",
       "      <th>dt</th>\n",
       "      <th>CityName</th>\n",
       "      <th>rto</th>\n",
       "      <th>scaled_rto</th>\n",
       "    </tr>\n",
       "  </thead>\n",
       "  <tbody>\n",
       "    <tr>\n",
       "      <th>139295</th>\n",
       "      <td>2022-02-16</td>\n",
       "      <td>Абакан</td>\n",
       "      <td>19586.21</td>\n",
       "      <td>-0.316794</td>\n",
       "    </tr>\n",
       "    <tr>\n",
       "      <th>139307</th>\n",
       "      <td>2022-02-16</td>\n",
       "      <td>Абинск</td>\n",
       "      <td>7909.93</td>\n",
       "      <td>-0.549947</td>\n",
       "    </tr>\n",
       "    <tr>\n",
       "      <th>139319</th>\n",
       "      <td>2022-02-16</td>\n",
       "      <td>Азов</td>\n",
       "      <td>2019.43</td>\n",
       "      <td>-0.667569</td>\n",
       "    </tr>\n",
       "    <tr>\n",
       "      <th>139329</th>\n",
       "      <td>2022-02-16</td>\n",
       "      <td>Аксай Россия</td>\n",
       "      <td>2657.27</td>\n",
       "      <td>-0.654832</td>\n",
       "    </tr>\n",
       "    <tr>\n",
       "      <th>139340</th>\n",
       "      <td>2022-02-16</td>\n",
       "      <td>Александров</td>\n",
       "      <td>7047.18</td>\n",
       "      <td>-0.567174</td>\n",
       "    </tr>\n",
       "  </tbody>\n",
       "</table>\n",
       "</div>"
      ],
      "text/plain": [
       "                dt      CityName       rto  scaled_rto\n",
       "139295  2022-02-16        Абакан  19586.21   -0.316794\n",
       "139307  2022-02-16        Абинск   7909.93   -0.549947\n",
       "139319  2022-02-16          Азов   2019.43   -0.667569\n",
       "139329  2022-02-16  Аксай Россия   2657.27   -0.654832\n",
       "139340  2022-02-16   Александров   7047.18   -0.567174"
      ]
     },
     "execution_count": 62,
     "metadata": {},
     "output_type": "execute_result"
    }
   ],
   "source": [
    "knn_pre_exp_clean_scld.head()"
   ]
  },
  {
   "cell_type": "code",
   "execution_count": 106,
   "metadata": {},
   "outputs": [],
   "source": [
    "def get_vectors(data: pd.DataFrame, metric_name: str, id_field_name: str) -> Tuple[dict, dict]:\n",
    "    \"\"\"\n",
    "    Преобразует метрику из датафрейма в векторный вид\n",
    "\n",
    "    Args:\n",
    "        data (pd.DataFrame): датафрейм c масштабированной метрикой\n",
    "        metric_name (str): наименование столбца с масштабированной метрикой\n",
    "        id_field_name (str): наименование столбца с юнитом\n",
    "\n",
    "    Returns:\n",
    "        Tuple[dict, dict]:\n",
    "            dict0 - словарь с наименованием юнита в ключе и вектором в значении\n",
    "            dict1 - словарь с индексом юнита в ключе и наименованием юнита в значении\n",
    "    \"\"\"\n",
    "    data_vec = data.groupby(id_field_name).agg({metric_name: list}).reset_index()\n",
    "    data_vec[f\"{metric_name}_array\"] = [np.array(i) for i in data_vec[f\"{metric_name}\"]]\n",
    "    keys = data_vec[id_field_name].tolist()\n",
    "    vals = data_vec[f\"{metric_name}_array\"].tolist()\n",
    "    return dict(zip(keys, vals)), dict(zip([i for i in range(0, len(keys))], keys))"
   ]
  },
  {
   "cell_type": "code",
   "execution_count": 88,
   "metadata": {},
   "outputs": [],
   "source": [
    "knn_vectors, ids_dict = get_vectors(knn_pre_exp_clean_scld, \"scaled_rto\", \"CityName\")"
   ]
  },
  {
   "cell_type": "code",
   "execution_count": 107,
   "metadata": {},
   "outputs": [],
   "source": [
    "def get_k_neighbours(\n",
    "    id: str, vectors: dict, number_of_neighbours: int, algorithm='auto'\n",
    ") -> dict:\n",
    "    \"\"\"\n",
    "    Возвращает k ближайших соседей для одного заданного юнита\n",
    "\n",
    "    Args:\n",
    "        id (str): идентификатор юнита\n",
    "        vectors (dict): словарь с наименованием юнита в ключе и вектором метрики в значении \n",
    "        number_of_neighbours (int): количество ближайших соседей для поиска\n",
    "        algorithm (str, optional): алгорит подбора соседей. Defaults to 'auto'.\n",
    "\n",
    "    Returns:\n",
    "        dict: словарь с индексами юнитов в ключах и расстоянием в значении\n",
    "    \"\"\"\n",
    "    def get_knn(vectors):\n",
    "        vector_arrays = [list(i) for i in vectors.values()]\n",
    "        return NearestNeighbors(number_of_neighbours, algorithm=algorithm).fit(vector_arrays)        \n",
    "\n",
    "    def get_vector(vectors, id):\n",
    "        return vectors[id].reshape(1, -1)\n",
    "\n",
    "    def flatten_neighbour_list(distance, ids):\n",
    "        dist_list, nb_list = distance.tolist(), ids.tolist()\n",
    "        return dist_list[0], nb_list[0]\n",
    "\n",
    "    knn = get_knn(vectors)\n",
    "    vector = get_vector(vectors, id)\n",
    "    dist, nb_indexes = knn.kneighbors(vector, number_of_neighbours, return_distance=True)\n",
    "    return_dist, return_nb_indexes = flatten_neighbour_list(dist, nb_indexes)\n",
    "    return dict(zip(return_nb_indexes, return_dist))"
   ]
  },
  {
   "cell_type": "code",
   "execution_count": 81,
   "metadata": {},
   "outputs": [
    {
     "data": {
      "text/plain": [
       "{147: 0.0, 76: 0.767695996137587, 83: 0.8031629508608411}"
      ]
     },
     "execution_count": 81,
     "metadata": {},
     "output_type": "execute_result"
    }
   ],
   "source": [
    "get_k_neighbours(\"Орск\", knn_vectors, 3)"
   ]
  },
  {
   "cell_type": "code",
   "execution_count": 82,
   "metadata": {},
   "outputs": [],
   "source": [
    "test_towns = ['Пенза', 'Уфа', 'Курск', 'Нижний Тагил', 'Новокуйбышевск', 'Орск']"
   ]
  },
  {
   "cell_type": "code",
   "execution_count": 108,
   "metadata": {},
   "outputs": [],
   "source": [
    "def get_all_neighbours(\n",
    "    knn_vectors: dict, ids_dict: dict, test_towns: List[str], number_of_neighbours: int\n",
    ") -> dict:\n",
    "    \"\"\"\n",
    "    Возвращает словарь с ближайшими соседями для всех, поданных на вход юнитов\n",
    "\n",
    "    Args:\n",
    "        knn_vectors (dict): словарь с наименованием юнита в ключе и вектором в значении\n",
    "        ids_dict (dict): словарь с индексом юнита в ключе и наименованием юнита в значении\n",
    "        test_towns (List[str]): список юнитов из тестовой группы\n",
    "        number_of_neighbours (int): количество ближайших соседей\n",
    "\n",
    "    Returns:\n",
    "        dict: словарь с наменованием юнита в ключе и списком соседей в значении\n",
    "    \"\"\"\n",
    "    result_ids = {\n",
    "        i:[ids_dict[j] for j in get_k_neighbours(i, knn_vectors, number_of_neighbours)]\n",
    "        for i in test_towns\n",
    "    }\n",
    "    return result_ids"
   ]
  },
  {
   "cell_type": "code",
   "execution_count": 97,
   "metadata": {},
   "outputs": [
    {
     "data": {
      "text/plain": [
       "{'Пенза': ['Пенза', 'Рязань'],\n",
       " 'Уфа': ['Уфа', 'Оренбург'],\n",
       " 'Курск': ['Курск', 'Ухта'],\n",
       " 'Нижний Тагил': ['Нижний Тагил', 'Брянск'],\n",
       " 'Новокуйбышевск': ['Новокуйбышевск', 'Выборг'],\n",
       " 'Орск': ['Орск', 'Ковров']}"
      ]
     },
     "execution_count": 97,
     "metadata": {},
     "output_type": "execute_result"
    }
   ],
   "source": [
    "all_neighbours = get_all_neighbours(knn_vectors, ids_dict, test_towns, 2)\n",
    "all_neighbours"
   ]
  },
  {
   "cell_type": "code",
   "execution_count": 111,
   "metadata": {},
   "outputs": [],
   "source": [
    "def get_test_control_val_groups(neighbours_dict: dict) -> dict:\n",
    "    \"\"\"\n",
    "    Формирует словарь со списками тестовых и контрольных юнитов в значениях словаря\n",
    "\n",
    "    Args:\n",
    "        neighbours_dict (dict): словарь с наменованием юнита в ключе и списком соседей в значении\n",
    "\n",
    "    Returns:\n",
    "        dict: итоговый словарь {test_units: [str], control_units: [str]}\n",
    "    \"\"\"\n",
    "    test_units = list(neighbours_dict.keys())\n",
    "    control_units = [[j for j in i if j not in test_towns][0] for i in neighbours_dict.values()]\n",
    "    return dict(\n",
    "        test_units=test_units,\n",
    "        control_units=control_units,\n",
    "    )"
   ]
  },
  {
   "cell_type": "code",
   "execution_count": 110,
   "metadata": {},
   "outputs": [
    {
     "data": {
      "text/plain": [
       "{'test_units': ['Пенза',\n",
       "  'Уфа',\n",
       "  'Курск',\n",
       "  'Нижний Тагил',\n",
       "  'Новокуйбышевск',\n",
       "  'Орск'],\n",
       " 'control_units': ['Рязань', 'Оренбург', 'Ухта', 'Брянск', 'Выборг', 'Ковров']}"
      ]
     },
     "execution_count": 110,
     "metadata": {},
     "output_type": "execute_result"
    }
   ],
   "source": [
    "all_groups = get_test_control_val_groups(all_neighbours)\n",
    "all_groups"
   ]
  },
  {
   "cell_type": "code",
   "execution_count": null,
   "metadata": {},
   "outputs": [],
   "source": []
  }
 ],
 "metadata": {
  "kernelspec": {
   "display_name": "base",
   "language": "python",
   "name": "python3"
  },
  "language_info": {
   "codemirror_mode": {
    "name": "ipython",
    "version": 3
   },
   "file_extension": ".py",
   "mimetype": "text/x-python",
   "name": "python",
   "nbconvert_exporter": "python",
   "pygments_lexer": "ipython3",
   "version": "3.8.3"
  }
 },
 "nbformat": 4,
 "nbformat_minor": 2
}
