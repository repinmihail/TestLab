{
 "cells": [
  {
   "cell_type": "code",
   "execution_count": 1,
   "metadata": {},
   "outputs": [
    {
     "name": "stdout",
     "output_type": "stream",
     "text": [
      "Requirement already satisfied: seedir in c:\\users\\repin\\anaconda3\\lib\\site-packages (0.5.0)\n",
      "Requirement already satisfied: natsort in c:\\users\\repin\\anaconda3\\lib\\site-packages (from seedir) (8.4.0)\n"
     ]
    }
   ],
   "source": [
    "! pip install seedir"
   ]
  },
  {
   "cell_type": "code",
   "execution_count": 2,
   "metadata": {},
   "outputs": [
    {
     "name": "stdout",
     "output_type": "stream",
     "text": [
      "Requirement already satisfied: emoji in c:\\users\\repin\\anaconda3\\lib\\site-packages (2.12.1)\n",
      "Requirement already satisfied: typing-extensions>=4.7.0 in c:\\users\\repin\\anaconda3\\lib\\site-packages (from emoji) (4.12.2)\n"
     ]
    }
   ],
   "source": [
    "! pip install emoji"
   ]
  },
  {
   "cell_type": "code",
   "execution_count": 1,
   "metadata": {},
   "outputs": [],
   "source": [
    "import pandas as pd\n",
    "import numpy as np\n",
    "import seedir as sd\n",
    "import emoji\n",
    "from src import get_directory_tree"
   ]
  },
  {
   "cell_type": "code",
   "execution_count": 2,
   "metadata": {},
   "outputs": [
    {
     "name": "stdout",
     "output_type": "stream",
     "text": [
      "📁 TestLab/\n",
      "├─📁 TestLab/\n",
      "│ ├─📄 TestLab.py\n",
      "│ └─📄 __init__.py\n",
      "├─📁 development/\n",
      "│ ├─📄 dev-class-methods-testing.ipynb\n",
      "│ ├─📄 dev-offline-tests-pipline.ipynb\n",
      "│ ├─📄 dev-offline-units-exp.ipynb\n",
      "│ ├─📄 dev-testing-etna.ipynb\n",
      "│ ├─📄 dev-validation.ipynb\n",
      "│ ├─📄 src.py\n",
      "│ ├─📄 test-data.csv\n",
      "│ ├─📄 test_flow.py\n",
      "│ └─📄 visualization.py\n",
      "├─📁 playbooks/\n",
      "│ └─📄 testing-demo.ipynb\n",
      "├─📁 tests/\n",
      "│ ├─📄 __init__.py\n",
      "│ └─📄 test_TestLab.py\n",
      "├─📄 .gitignore\n",
      "├─📄 HISTORY.md\n",
      "├─📄 LICENSE\n",
      "├─📄 MANIFEST.in\n",
      "├─📄 README.md\n",
      "├─📄 requirements.txt\n",
      "├─📄 setup.cfg\n",
      "└─📄 setup.py\n"
     ]
    }
   ],
   "source": [
    "path = r'C:\\Users\\repin\\Desktop\\GitHub\\TestLab'\n",
    "get_directory_tree(\n",
    "    path\n",
    ")"
   ]
  },
  {
   "cell_type": "code",
   "execution_count": 11,
   "metadata": {},
   "outputs": [
    {
     "name": "stdout",
     "output_type": "stream",
     "text": [
      "📁 TestLab/\n",
      "├─📁 TestLab/\n",
      "│ ├─📄 TestLab.py\n",
      "│ └─📄 __init__.py\n",
      "├─📁 development/\n",
      "│ ├─📄 dev-class-methods-testing.ipynb\n",
      "│ ├─📄 dev-offline-tests-pipline.ipynb\n",
      "│ ├─📄 dev-offline-units-exp.ipynb\n",
      "│ ├─📄 dev-testing-etna.ipynb\n",
      "│ ├─📄 dev-validation.ipynb\n",
      "│ ├─📄 src.py\n",
      "│ ├─📄 test-data.csv\n",
      "│ ├─📄 test_flow.py\n",
      "│ └─📄 visualization.py\n",
      "├─📁 playbooks/\n",
      "│ └─📄 testing-demo.ipynb\n",
      "├─📁 tests/\n",
      "│ ├─📄 __init__.py\n",
      "│ └─📄 test_TestLab.py\n",
      "├─📄 HISTORY.md\n",
      "├─📄 LICENSE\n",
      "├─📄 MANIFEST.in\n",
      "├─📄 requirements.txt\n",
      "├─📄 setup.cfg\n",
      "└─📄 setup.py\n"
     ]
    }
   ],
   "source": [
    "sd.seedir(\n",
    "    r'C:\\Users\\repin\\Desktop\\GitHub\\TestLab',\n",
    "    first='folders',\n",
    "    style='emoji'  \n",
    ")"
   ]
  }
 ],
 "metadata": {
  "kernelspec": {
   "display_name": "base",
   "language": "python",
   "name": "python3"
  },
  "language_info": {
   "codemirror_mode": {
    "name": "ipython",
    "version": 3
   },
   "file_extension": ".py",
   "mimetype": "text/x-python",
   "name": "python",
   "nbconvert_exporter": "python",
   "pygments_lexer": "ipython3",
   "version": "3.8.3"
  }
 },
 "nbformat": 4,
 "nbformat_minor": 2
}
